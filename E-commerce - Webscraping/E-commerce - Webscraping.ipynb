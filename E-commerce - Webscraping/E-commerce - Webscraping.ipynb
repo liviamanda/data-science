{
 "cells": [
  {
   "cell_type": "markdown",
   "metadata": {},
   "source": [
    "## **Webscraping**\n",
    "\n",
    "##### **Name**  : Livia Amanda Annafiah\n",
    "-------\n",
    "\n",
    "##### **Program Description**\n",
    "This program aims to perform web scraping on the Tokopedia e-commerce platform to retrieve data, process it, and analyze sales of specific product to facilitate decision-making."
   ]
  },
  {
   "cell_type": "markdown",
   "metadata": {},
   "source": [
    "#### **A. Web Scraping**"
   ]
  },
  {
   "cell_type": "markdown",
   "metadata": {},
   "source": [
    "The goal is to explore dropshipping to generate income, but there's uncertainty about the product to sell. After thorough consideration, the decision is to focus on marketing seblak. However, prior to proceeding, a market analysis is necessary to assess the demand and profit potential of selling seblak. The objective is to analyze seblak sales performance and determine the level of consumer interest in this product."
   ]
  },
  {
   "cell_type": "markdown",
   "metadata": {},
   "source": [
    "The initial step involves **web scraping** data from Tokopedia e-commerce to gather information on seblak sales. This step extracted product details which are product names, prices, seller info, location, amount sold, and rating. Analyzing this data provides insights into market trends and consumer preferences."
   ]
  },
  {
   "cell_type": "code",
   "execution_count": 53,
   "metadata": {},
   "outputs": [],
   "source": [
    "# Import library for web scraping\n",
    "from selenium import webdriver\n",
    "from bs4 import BeautifulSoup\n",
    "import time\n",
    "import pandas as pd\n",
    "\n",
    "# Import library for statistical analysis\n",
    "from scipy import stats\n",
    "import matplotlib.pyplot as plt\n",
    "import numpy as np\n",
    "import seaborn as sns"
   ]
  },
  {
   "cell_type": "markdown",
   "metadata": {},
   "source": [
    "From the code cell below, there are some cells that are commented. This is due to the web scraping process which tends to have different classes each time. Therefore, the web scrape process is only run once."
   ]
  },
  {
   "cell_type": "code",
   "execution_count": 54,
   "metadata": {},
   "outputs": [],
   "source": [
    "# Define the URL\n",
    "url=\"https://www.tokopedia.com/search?navsource=&page=1&q=seblak&srp_component_id=02.01.00.00&srp_page_id=&srp_page_title=&st=\"\n",
    "\n",
    "# Initialize a Chrome webdriver and open the webpage\n",
    "driver = webdriver.Chrome()\n",
    "driver.get(url)\n",
    "\n",
    "# Get the HTML source code of the webpage\n",
    "html = driver.page_source\n",
    "\n",
    "# Parse the HTML source code using BeautifulSoup\n",
    "soup = BeautifulSoup(html, \"html.parser\")"
   ]
  },
  {
   "cell_type": "markdown",
   "metadata": {},
   "source": [
    "In these steps, the process begins with the definition of the URL, directing to the Tokopedia search page for 'seblak' products. Subsequently, a Chrome webdriver is initialized using Selenium, which then opens the URL. Then, the HTML source code of the webpage is extracted. Finally, BeautifulSoup is utilized to parse the HTML source, facilitating the extraction of relevant data."
   ]
  },
  {
   "cell_type": "code",
   "execution_count": 55,
   "metadata": {},
   "outputs": [],
   "source": [
    "# Make an empty list\n",
    "productName = []\n",
    "price = []\n",
    "seller = []\n",
    "location = []\n",
    "amountSold = []\n",
    "rating = []\n",
    "seen_products = []\n",
    "\n",
    "# Looping through the first 10 pages\n",
    "for i in range(1,11):\n",
    "    url=\"https://www.tokopedia.com/search?navsource=&page={}&q=seblak&srp_component_id=02.01.00.00&srp_page_id=&srp_page_title=&st=\".format(i)\n",
    "    driver.get(url)\n",
    "    html = driver.page_source\n",
    "    time.sleep(0.5) # Add a delay\n",
    "    soup = BeautifulSoup(html, \"html.parser\")\n",
    "\n",
    "    # Extract information from the webpage and adding it to the empty list\n",
    "    for item in soup.find_all('div', {\"class\": \"css-1asz3by\"}):\n",
    "\n",
    "        try:\n",
    "            productName.append(item.find('div', {\"class\": \"prd_link-product-name css-3um8ox\"}).text.strip())  \n",
    "        except AttributeError:\n",
    "            productName.append(None)\n",
    "\n",
    "        try:\n",
    "            price.append(item.find('div', {\"class\": \"prd_link-product-price css-h66vau\"}).text.strip())\n",
    "        except AttributeError:\n",
    "            price.append(None)\n",
    "\n",
    "        try:\n",
    "            seller.append(item.find('span', {\"class\": \"prd_link-shop-name css-1kdc32b flip\"}).text.strip())\n",
    "        except AttributeError:\n",
    "            seller.append(None)\n",
    "\n",
    "        try:\n",
    "            location.append(item.find('span', {\"class\": \"prd_link-shop-loc css-1kdc32b flip\"}).text.strip())\n",
    "        except AttributeError:\n",
    "            location.append(None)\n",
    "\n",
    "        try:\n",
    "            amountSold.append(item.find('span', {\"class\": \"prd_label-integrity css-1sgek4h\"}).text.strip())\n",
    "        except AttributeError:\n",
    "            amountSold.append(None)\n",
    "\n",
    "        try:\n",
    "            rating.append(item.find('span', {\"class\": \"prd_rating-average-text css-t70v7i\"}).text.strip())\n",
    "        except AttributeError:\n",
    "            rating.append(None)\n",
    "\n",
    "# Closes the webdriver\n",
    "driver.quit()\n",
    "\n",
    "# Converts list to a dataframe\n",
    "data_multipage = pd.DataFrame()\n",
    "data_multipage['Product Name'] = productName\n",
    "data_multipage['Price'] = price\n",
    "data_multipage['Seller'] = seller\n",
    "data_multipage['Location'] = location\n",
    "data_multipage['Amount Sold'] = amountSold\n",
    "data_multipage['Rating'] = rating\n",
    "\n",
    "# Show dataframe\n",
    "data_multipage"
   ]
  },
  {
   "cell_type": "markdown",
   "metadata": {},
   "source": [
    "During this stage, the process scrapes Tokopedia's e-commerce platform for 'seblak' products across 10 pages. The essential details are collected and appended to empty lists. Using the inspect element feature, classes, divs, and spans are identified and extracted.\n",
    "\n",
    "There are some products from new seller that doesn't have any ratings or amount sold yet. To address missing values and maintain consistent list lengths, any missing data is designated as `None`. Following this, a DataFrame is generated from the information."
   ]
  },
  {
   "cell_type": "code",
   "execution_count": 56,
   "metadata": {},
   "outputs": [],
   "source": [
    "# Save the dataframe to csv format\n",
    "data_multipage.to_csv('rawData.csv', index=False)"
   ]
  },
  {
   "cell_type": "markdown",
   "metadata": {},
   "source": [
    "Once the DataFrame has been generated, it can be transformed into CSV format for additional analysis, removing the need to scrape the web again."
   ]
  },
  {
   "cell_type": "markdown",
   "metadata": {},
   "source": [
    "#### **B. Data Preparation**"
   ]
  },
  {
   "cell_type": "markdown",
   "metadata": {},
   "source": [
    "##### **1. Data Exploration**"
   ]
  },
  {
   "cell_type": "code",
   "execution_count": 57,
   "metadata": {},
   "outputs": [
    {
     "data": {
      "text/html": [
       "<div>\n",
       "<style scoped>\n",
       "    .dataframe tbody tr th:only-of-type {\n",
       "        vertical-align: middle;\n",
       "    }\n",
       "\n",
       "    .dataframe tbody tr th {\n",
       "        vertical-align: top;\n",
       "    }\n",
       "\n",
       "    .dataframe thead th {\n",
       "        text-align: right;\n",
       "    }\n",
       "</style>\n",
       "<table border=\"1\" class=\"dataframe\">\n",
       "  <thead>\n",
       "    <tr style=\"text-align: right;\">\n",
       "      <th></th>\n",
       "      <th>Product Name</th>\n",
       "      <th>Price</th>\n",
       "      <th>Seller</th>\n",
       "      <th>Location</th>\n",
       "      <th>Amount Sold</th>\n",
       "      <th>Rating</th>\n",
       "    </tr>\n",
       "  </thead>\n",
       "  <tbody>\n",
       "    <tr>\n",
       "      <th>0</th>\n",
       "      <td>Kylafood Seblak Mie Baso Sapi Play</td>\n",
       "      <td>Rp24.200</td>\n",
       "      <td>NaN</td>\n",
       "      <td>NaN</td>\n",
       "      <td>250+ terjual</td>\n",
       "      <td>4.9</td>\n",
       "    </tr>\n",
       "    <tr>\n",
       "      <th>1</th>\n",
       "      <td>Kylafood Seblak karuhun</td>\n",
       "      <td>Rp9.450</td>\n",
       "      <td>NaN</td>\n",
       "      <td>NaN</td>\n",
       "      <td>4 rb+ terjual</td>\n",
       "      <td>4.8</td>\n",
       "    </tr>\n",
       "    <tr>\n",
       "      <th>2</th>\n",
       "      <td>Kylafood Paket (3 Seblak Original 2 Batagor kuah)</td>\n",
       "      <td>Rp97.200</td>\n",
       "      <td>NaN</td>\n",
       "      <td>NaN</td>\n",
       "      <td>3 rb+ terjual</td>\n",
       "      <td>4.9</td>\n",
       "    </tr>\n",
       "    <tr>\n",
       "      <th>3</th>\n",
       "      <td>Kylafood Seblak Original</td>\n",
       "      <td>Rp19.800</td>\n",
       "      <td>kylafood</td>\n",
       "      <td>Bandung</td>\n",
       "      <td>10rb+ terjual</td>\n",
       "      <td>4.9</td>\n",
       "    </tr>\n",
       "    <tr>\n",
       "      <th>4</th>\n",
       "      <td>Seblak Rafael, Seblak Coet Instan Halal</td>\n",
       "      <td>Rp23.750</td>\n",
       "      <td>Brother Meat Shop</td>\n",
       "      <td>Depok</td>\n",
       "      <td>500+ terjual</td>\n",
       "      <td>4.9</td>\n",
       "    </tr>\n",
       "    <tr>\n",
       "      <th>...</th>\n",
       "      <td>...</td>\n",
       "      <td>...</td>\n",
       "      <td>...</td>\n",
       "      <td>...</td>\n",
       "      <td>...</td>\n",
       "      <td>...</td>\n",
       "    </tr>\n",
       "    <tr>\n",
       "      <th>352</th>\n",
       "      <td>[250 gr] Kerupuk Seblak Pedas</td>\n",
       "      <td>Rp11.500</td>\n",
       "      <td>CamilanJati</td>\n",
       "      <td>Kab. Sidoarjo</td>\n",
       "      <td>40+ terjual</td>\n",
       "      <td>5.0</td>\n",
       "    </tr>\n",
       "    <tr>\n",
       "      <th>353</th>\n",
       "      <td>Gelifood Seblak Instan Kerupuk Mawar Bumbu Ken...</td>\n",
       "      <td>Rp15.000</td>\n",
       "      <td>Lidigeli</td>\n",
       "      <td>Kab. Garut</td>\n",
       "      <td>250+ terjual</td>\n",
       "      <td>4.8</td>\n",
       "    </tr>\n",
       "    <tr>\n",
       "      <th>354</th>\n",
       "      <td>Seblak Instan Komplit Pedas Gurih Nikmat</td>\n",
       "      <td>Rp5.999</td>\n",
       "      <td>Baso Aci Ayang</td>\n",
       "      <td>Kab. Garut</td>\n",
       "      <td>3rb+ terjual</td>\n",
       "      <td>4.9</td>\n",
       "    </tr>\n",
       "    <tr>\n",
       "      <th>355</th>\n",
       "      <td>Geli Food Seblak Ceker Tanpa Tulang Super Peda...</td>\n",
       "      <td>Rp24.000</td>\n",
       "      <td>Lidigeli</td>\n",
       "      <td>Kab. Garut</td>\n",
       "      <td>100+ terjual</td>\n",
       "      <td>4.8</td>\n",
       "    </tr>\n",
       "    <tr>\n",
       "      <th>356</th>\n",
       "      <td>KERUPUK JABLAY/KERUPUK SEBLAK RASA PEDAS BERAT...</td>\n",
       "      <td>Rp11.500</td>\n",
       "      <td>aurel prima snack</td>\n",
       "      <td>Jakarta Barat</td>\n",
       "      <td>30+ terjual</td>\n",
       "      <td>4.8</td>\n",
       "    </tr>\n",
       "  </tbody>\n",
       "</table>\n",
       "<p>357 rows × 6 columns</p>\n",
       "</div>"
      ],
      "text/plain": [
       "                                          Product Name     Price  \\\n",
       "0                   Kylafood Seblak Mie Baso Sapi Play  Rp24.200   \n",
       "1                              Kylafood Seblak karuhun   Rp9.450   \n",
       "2    Kylafood Paket (3 Seblak Original 2 Batagor kuah)  Rp97.200   \n",
       "3                             Kylafood Seblak Original  Rp19.800   \n",
       "4              Seblak Rafael, Seblak Coet Instan Halal  Rp23.750   \n",
       "..                                                 ...       ...   \n",
       "352                      [250 gr] Kerupuk Seblak Pedas  Rp11.500   \n",
       "353  Gelifood Seblak Instan Kerupuk Mawar Bumbu Ken...  Rp15.000   \n",
       "354           Seblak Instan Komplit Pedas Gurih Nikmat   Rp5.999   \n",
       "355  Geli Food Seblak Ceker Tanpa Tulang Super Peda...  Rp24.000   \n",
       "356  KERUPUK JABLAY/KERUPUK SEBLAK RASA PEDAS BERAT...  Rp11.500   \n",
       "\n",
       "                Seller       Location    Amount Sold  Rating  \n",
       "0                  NaN            NaN   250+ terjual     4.9  \n",
       "1                  NaN            NaN  4 rb+ terjual     4.8  \n",
       "2                  NaN            NaN  3 rb+ terjual     4.9  \n",
       "3             kylafood        Bandung  10rb+ terjual     4.9  \n",
       "4    Brother Meat Shop          Depok   500+ terjual     4.9  \n",
       "..                 ...            ...            ...     ...  \n",
       "352        CamilanJati  Kab. Sidoarjo    40+ terjual     5.0  \n",
       "353           Lidigeli     Kab. Garut   250+ terjual     4.8  \n",
       "354     Baso Aci Ayang     Kab. Garut   3rb+ terjual     4.9  \n",
       "355           Lidigeli     Kab. Garut   100+ terjual     4.8  \n",
       "356  aurel prima snack  Jakarta Barat    30+ terjual     4.8  \n",
       "\n",
       "[357 rows x 6 columns]"
      ]
     },
     "execution_count": 57,
     "metadata": {},
     "output_type": "execute_result"
    }
   ],
   "source": [
    "# Reads csv file and save it to a variable\n",
    "df = pd.read_csv(\"rawData.csv\")\n",
    "\n",
    "# Show dataframe\n",
    "df"
   ]
  },
  {
   "cell_type": "markdown",
   "metadata": {},
   "source": [
    "This code segment reads a CSV file, displaying the dataframe of the first 5 rows and last 5 rows. It accurately retrieves the relevant information from the data, including the detection and handling of NaN values, indicating missing data."
   ]
  },
  {
   "cell_type": "code",
   "execution_count": 58,
   "metadata": {},
   "outputs": [
    {
     "name": "stdout",
     "output_type": "stream",
     "text": [
      "<class 'pandas.core.frame.DataFrame'>\n",
      "RangeIndex: 357 entries, 0 to 356\n",
      "Data columns (total 6 columns):\n",
      " #   Column        Non-Null Count  Dtype  \n",
      "---  ------        --------------  -----  \n",
      " 0   Product Name  357 non-null    object \n",
      " 1   Price         357 non-null    object \n",
      " 2   Seller        340 non-null    object \n",
      " 3   Location      340 non-null    object \n",
      " 4   Amount Sold   351 non-null    object \n",
      " 5   Rating        338 non-null    float64\n",
      "dtypes: float64(1), object(5)\n",
      "memory usage: 16.9+ KB\n"
     ]
    }
   ],
   "source": [
    "# Show the summary information of the data\n",
    "df.info()"
   ]
  },
  {
   "cell_type": "markdown",
   "metadata": {},
   "source": [
    "The summary, obtained from the `info` method, indicates a dataset of 357 rows and 6 columns. These columns are `Product Name`, `Price`, `Seller`, `Location`, `Amount Sold`, and `Rating`. There are no null values for the product name and price columns, although several null values are present in other columns. The datatypes includes 1 float and 5 objects.\n",
    "\n",
    "These findings indicate that the datatypes of certain columns need to be adjusted to their appropriate types."
   ]
  },
  {
   "cell_type": "code",
   "execution_count": 59,
   "metadata": {},
   "outputs": [
    {
     "data": {
      "text/html": [
       "<div>\n",
       "<style scoped>\n",
       "    .dataframe tbody tr th:only-of-type {\n",
       "        vertical-align: middle;\n",
       "    }\n",
       "\n",
       "    .dataframe tbody tr th {\n",
       "        vertical-align: top;\n",
       "    }\n",
       "\n",
       "    .dataframe thead th {\n",
       "        text-align: right;\n",
       "    }\n",
       "</style>\n",
       "<table border=\"1\" class=\"dataframe\">\n",
       "  <thead>\n",
       "    <tr style=\"text-align: right;\">\n",
       "      <th></th>\n",
       "      <th>Rating</th>\n",
       "    </tr>\n",
       "  </thead>\n",
       "  <tbody>\n",
       "    <tr>\n",
       "      <th>count</th>\n",
       "      <td>338.000000</td>\n",
       "    </tr>\n",
       "    <tr>\n",
       "      <th>mean</th>\n",
       "      <td>4.886391</td>\n",
       "    </tr>\n",
       "    <tr>\n",
       "      <th>std</th>\n",
       "      <td>0.097405</td>\n",
       "    </tr>\n",
       "    <tr>\n",
       "      <th>min</th>\n",
       "      <td>4.200000</td>\n",
       "    </tr>\n",
       "    <tr>\n",
       "      <th>25%</th>\n",
       "      <td>4.800000</td>\n",
       "    </tr>\n",
       "    <tr>\n",
       "      <th>50%</th>\n",
       "      <td>4.900000</td>\n",
       "    </tr>\n",
       "    <tr>\n",
       "      <th>75%</th>\n",
       "      <td>4.975000</td>\n",
       "    </tr>\n",
       "    <tr>\n",
       "      <th>max</th>\n",
       "      <td>5.000000</td>\n",
       "    </tr>\n",
       "  </tbody>\n",
       "</table>\n",
       "</div>"
      ],
      "text/plain": [
       "           Rating\n",
       "count  338.000000\n",
       "mean     4.886391\n",
       "std      0.097405\n",
       "min      4.200000\n",
       "25%      4.800000\n",
       "50%      4.900000\n",
       "75%      4.975000\n",
       "max      5.000000"
      ]
     },
     "execution_count": 59,
     "metadata": {},
     "output_type": "execute_result"
    }
   ],
   "source": [
    "# Show summary statistics of the data\n",
    "df.describe()"
   ]
  },
  {
   "cell_type": "markdown",
   "metadata": {},
   "source": [
    "The `describe` method provides a statistical summary of the data. Since the only numeric column currently is the rating, it displays statistics for the rating column only. Statistics include count, mean, standard deviation (std), minimum and maximum value, and quartiles."
   ]
  },
  {
   "cell_type": "code",
   "execution_count": 60,
   "metadata": {},
   "outputs": [
    {
     "data": {
      "text/plain": [
       "Product Name                                                        Price     Seller                          Location           Amount Sold    Rating\n",
       "Seblak Rafael, Seblak Coet Instan Halal                             Rp23.750  Brother Meat Shop               Depok              500+ terjual   4.9       33\n",
       "Seblak Rafael/Seblak Coet Instan Halal                              Rp26.600  Foodstocks                      Jakarta Selatan    50+ terjual    5.0       33\n",
       "SEBLAK INSTANT TERMURAH                                             Rp4.450   Pusat Cuankie & Cemilan Frozen  Jakarta Timur      10rb+ terjual  4.8       21\n",
       "Seblak Instan Pedas Home Made                                       Rp3.500   the Dhecip                      Tangerang Selatan  3rb+ terjual   4.9       20\n",
       "Kylafood Seblak Rempah Autentik 115gr, Seblak Instan Halal          Rp9.405   Brother Meat Shop               Depok              100+ terjual   4.9       13\n",
       "                                                                                                                                                          ..\n",
       "Kerupuk Bawang Seblak Bintang Mentah / Kerupuk Tersanjung 100 gram  Rp4.500   DelimaFCB                       Surabaya           19 terjual     5.0        1\n",
       "Keripik Ubi Ungu Sari Roso                                          Rp26.000  Pisang Goreng Madu Bu Nanik     Jakarta Barat      250+ terjual   5.0        1\n",
       "Keripik Tempe Oven                                                  Rp30.500  Pisang Goreng Madu Bu Nanik     Jakarta Barat      4rb+ terjual   4.7        1\n",
       "Keripik Singkong Kalimantan                                         Rp21.000  Pisang Goreng Madu Bu Nanik     Jakarta Barat      1rb+ terjual   4.8        1\n",
       "siomay mini kering 250 gram toping seblak baso aci                  Rp7.999   CUANKI CULAMETAN                Kab. Garut         250+ terjual   4.9        1\n",
       "Name: count, Length: 91, dtype: int64"
      ]
     },
     "execution_count": 60,
     "metadata": {},
     "output_type": "execute_result"
    }
   ],
   "source": [
    "# Counts occurrences of every unique value\n",
    "df.value_counts()"
   ]
  },
  {
   "cell_type": "markdown",
   "metadata": {},
   "source": [
    "The `value_counts` method helps to understand how often each value appears. Looking at the results, it's clear that some rows occur multiple times. For instance, the first two rows are repeated 33 times, the third row appears 21 times, and so forth. This indicates there are numerous duplicates in the dataframe. This may occur because certain sections like \"seblak instan,\" \"seblak kering,\" \"seblak rafael,\" keep showing up across different pages with identical attributes. Hence, it's necessary to clean up these duplicates from the dataset."
   ]
  },
  {
   "cell_type": "code",
   "execution_count": 61,
   "metadata": {},
   "outputs": [
    {
     "data": {
      "text/plain": [
       "59"
      ]
     },
     "execution_count": 61,
     "metadata": {},
     "output_type": "execute_result"
    }
   ],
   "source": [
    "# Total count of missing values\n",
    "df.isnull().sum().sum()"
   ]
  },
  {
   "cell_type": "markdown",
   "metadata": {},
   "source": [
    "The `isnull().sum().sum()` methods indicate a total count of missing values. This suggests there are 59 occurrences of `None` or missing values within the dataset."
   ]
  },
  {
   "cell_type": "code",
   "execution_count": 62,
   "metadata": {},
   "outputs": [
    {
     "data": {
      "text/plain": [
       "Product Name     0\n",
       "Price            0\n",
       "Seller          17\n",
       "Location        17\n",
       "Amount Sold      6\n",
       "Rating          19\n",
       "dtype: int64"
      ]
     },
     "execution_count": 62,
     "metadata": {},
     "output_type": "execute_result"
    }
   ],
   "source": [
    "# Counting missing values in each column\n",
    "df.isnull().sum()"
   ]
  },
  {
   "cell_type": "markdown",
   "metadata": {},
   "source": [
    "To identify the columns containing missing values, utilize the `isnull().sum()` method. This analysis reveals that the `Seller` and `Location` columns each have 17 missing values, the `Amount Sold` column has 6, and the `Rating` column has 19 missing values.\n",
    "\n",
    "In this analysis, missing values will be managed by eliminating rows that have missing values, thereby ensuring the significance of the analysis."
   ]
  },
  {
   "cell_type": "code",
   "execution_count": 63,
   "metadata": {},
   "outputs": [
    {
     "data": {
      "text/plain": [
       "243"
      ]
     },
     "execution_count": 63,
     "metadata": {},
     "output_type": "execute_result"
    }
   ],
   "source": [
    "# Total count of duplicated values\n",
    "df.duplicated().sum()"
   ]
  },
  {
   "cell_type": "markdown",
   "metadata": {},
   "source": [
    "The `duplicated().sum()` method indicates a total of 243 duplicated rows out of 357 rows. This implies that after cleaning, the dataframe would have 114 unique values remaining. In this case, the number of unique values is acceptable."
   ]
  },
  {
   "cell_type": "code",
   "execution_count": 64,
   "metadata": {},
   "outputs": [
    {
     "data": {
      "text/plain": [
       "Product Name     object\n",
       "Price            object\n",
       "Seller           object\n",
       "Location         object\n",
       "Amount Sold      object\n",
       "Rating          float64\n",
       "dtype: object"
      ]
     },
     "execution_count": 64,
     "metadata": {},
     "output_type": "execute_result"
    }
   ],
   "source": [
    "# Check data types\n",
    "df.dtypes"
   ]
  },
  {
   "cell_type": "markdown",
   "metadata": {},
   "source": [
    "To verify the data types, the `dtypes` method can be utilized. As previously mentioned, the data types remain incorrect and need adjustment according to their values."
   ]
  },
  {
   "cell_type": "code",
   "execution_count": 65,
   "metadata": {},
   "outputs": [
    {
     "data": {
      "text/plain": [
       "array(['Kylafood Seblak Mie Baso Sapi Play', 'Kylafood Seblak karuhun',\n",
       "       'Kylafood Paket (3 Seblak Original 2 Batagor kuah)',\n",
       "       'Kylafood Seblak Original',\n",
       "       'Seblak Rafael, Seblak Coet Instan Halal',\n",
       "       'Kylafood Seblak Rempah Autentik 115gr, Seblak Instan Halal',\n",
       "       'Seblak Rafael/Seblak Coet Instan Halal',\n",
       "       'kerupuk seblak kencur pedas', 'SEBLAK INSTANT TERMURAH',\n",
       "       'KERUPUK SEBLAK PEDAS DAUN JERUK 100 GR',\n",
       "       'Seblak Instan Pedas Home Made',\n",
       "       'Kylafood Seblak Cup Instan, Halal',\n",
       "       'KERUPUK SEBLAK PEDAS / KRUPUK SEBLAK KERING DAUN JERUK PEDES',\n",
       "       'Kerupuk Seblak / Seblak / Kering Pedas /',\n",
       "       'seblak kering pedas 250 gr/seblak kencur/kerupuk seblak,enak dan gurih',\n",
       "       'SEBRING KRUPUK KERUPUK SEBLAK KERING PEDAS DAUN JERUK 1KG CABE ASLI',\n",
       "       'kerupuk seblak kering pedas 1 kg keripik hot spicy camilan kekinian',\n",
       "       'Seblak RAFAEL | Seblak MAMANG RAFAEL | Seblak Viral ORIGINAL TATANGGA',\n",
       "       'Krupuk seblak mawar rafael pedas 250gram',\n",
       "       '[250 gr] Kerupuk Seblak Pedas',\n",
       "       'Gelifood Seblak Instan Kerupuk Mawar Bumbu Kencur Rafael Pedas Gurih',\n",
       "       'Seblak Instan Komplit Pedas Gurih Nikmat',\n",
       "       'Geli Food Seblak Ceker Tanpa Tulang Super Pedas 180gr',\n",
       "       'KERUPUK JABLAY/KERUPUK SEBLAK RASA PEDAS BERAT 250 GRAM',\n",
       "       'MASJAY Seblak Bumbu Membara Instant - No.1 Street Food Bandung',\n",
       "       'Kylafood Paket Seblak Cup isi 4 pcs',\n",
       "       'kerupuk seblak pedas coin 250g',\n",
       "       'Bundle - Basranger Seblak | Baso Aci Extra Pedas | Tulang Rangu',\n",
       "       'Kerupuk Mawar Ukuran Kecil Warna Putih/Kerupuk Seblak Mentah 250 gr',\n",
       "       'CUANKI TAHU TOPING BASO ACI, SEBLAK, MIE, ENAK DAN GURIH',\n",
       "       'Kerupuk seblak orens / kerupuk sari laut orange mentah',\n",
       "       'krupuk seblak hah pedas gurih 1kg',\n",
       "       '^; Seblak Rafael Asli Original | Seblak Coet Mamang Rafael',\n",
       "       'Agen Seblak Mommy',\n",
       "       'cuanki tahu kering seblak atau batagor kering isi 150 pcs',\n",
       "       'Seblak Basranger Extra Pedas 200gr',\n",
       "       'cuanki tahu gepeng isi 50 pcs toping seblak baso aci',\n",
       "       'siomay mini kering 1kg / gurilem toping seblak baso aci cuanki',\n",
       "       'cuanki pangsit segitiga atau cipet isi 40 pcs toping seblak baso aci',\n",
       "       'Seblak Instan Kenyang Murah Asli Bandung Reseller Tanpa Pengawet',\n",
       "       'Kerupuk Merah Seblak 250gr BANDUNG',\n",
       "       'BASO ACI HOMEMADE boci isi 6 baso aci tulang rangu seblak Boci sehot',\n",
       "       '10 BUNGKUS SEBLAK COBEK ALA RAFAEL', 'seblak instan KSN frozen',\n",
       "       'Super EKONOMIS 1pack Seblak Mercon + 1 Pack Boci Lv 15 Juara Dunia',\n",
       "       '12 Pack SEBLAK MERCON Juara Dunia By JRD Instant Food',\n",
       "       'Paket Personal 1 Ayam Crumble, 1 Pack Boci Lv.15, 1 Seblak',\n",
       "       'cuanki lidah aci 10 pcs murah toping seblak baso aci',\n",
       "       'cuanki lidah asli garut isi 150 pcs', 'seblak rafael',\n",
       "       'Baso urat djuara sami raos/Baso Aci Urat /Seblak',\n",
       "       'Mie Seblak Geprek Sami Raos Khas Garut Seblak Instant Kekinian 160gr',\n",
       "       'Seblak Mommy',\n",
       "       'Kerupuk Kering 250g Bahan Seblak Variasi Lengkap by GG',\n",
       "       'Kerupuk mawar putih mentah 1ball (5kg)/kerupuk seblak viral rafael',\n",
       "       'SEBLAK JELETET MURNI (UNYUU)',\n",
       "       'kerupuk seblak kencur pedas 100 gram',\n",
       "       'Mie Seblak Geprek SamiRaos Original | Seblak Mie Instat Pedas',\n",
       "       'Seblak Jadoel Sambel Hedjo Samiraos | Seblak Instan Pedas Murah',\n",
       "       'Baso Aci Bapper Tulang Rangu Original Asli Bandung 220gr',\n",
       "       'Keripik Singkong Kalimantan',\n",
       "       'Baso Aci Kriboow Special Wagyu Cincang Selera Martini',\n",
       "       'Keripik Tempe Oven',\n",
       "       'Basranger Baso Aci Cuanki Extra Pedas 200gr - Makanan Instan Premium',\n",
       "       'Kerupuk Seblak Pedas 200gr',\n",
       "       'SEBLAK INSTAN CUANKI/SEBLAK INSTAN MURAH/SEBLAK INSTAN',\n",
       "       'Bumbu Seblak 200 g Dengan Kerupuk',\n",
       "       'Seblak Hot Spicy By Bapper Food / Seblak Instant Khas Bandung',\n",
       "       'Kerupuk Kampung / Kerupuk Kampoeng / Kerupuk Bawang',\n",
       "       'Keripik Ubi Ungu Sari Roso',\n",
       "       'Sabring kerupuk seblak jablay pedas Jumbo',\n",
       "       'Kerupuk indosari gado gado dan seblak',\n",
       "       'kerupuk bawang pedas seblak plastik 250gr',\n",
       "       'Kerupuk Bawang Seblak Bintang Mentah / Kerupuk Tersanjung 100 gram',\n",
       "       'aneka kerupuk mix untuk bahan seblak 100 gr',\n",
       "       'KERUPUK SEBLAK 250gr / KRUPUK SEBLAK DAUN JERUK / SEBLAK PEDAS',\n",
       "       'seblak jengkol pedas / okesnack', 'Seblak Instan khas bandung',\n",
       "       'Kerupuk seblak Mawar / Seblak Rafael / Seblak viral 500 gr',\n",
       "       'Seblak kuah instan , Seblak khas garut',\n",
       "       'Kerupuk Seblak Pedas 160gr Jajanan Cemilan Murah Kekinian',\n",
       "       'Seblak kuah instan , Seblak khas garut a',\n",
       "       'Bumbu Basah Seblak 5 Porsi Koki Jempol',\n",
       "       'BUBUK CABAI/CABE BASO ACI/BOCI/SEBLAK/CUANKI ECERAN',\n",
       "       'kerupuk seblak kering kecil / kerupuk seblak pedas',\n",
       "       'Paket 7 Pcs Seblak Instan Ceu Nthien Khas Bandung Rasana Ngeunah Pisan',\n",
       "       'Seblak Cocol Seblak Coet Seblak Viral Seblak Bumbu Basah Seblak rafael',\n",
       "       'Kerupuk bawang orange 250gr / Krupuk seblak mentah bawang oren 250 gr',\n",
       "       'Cuanki Instan Bandung kuah pedas bulefood',\n",
       "       'Baso Aci Instan Culametan khas Garut (isi 12)',\n",
       "       'Baso Aci Terciduk Pedas Jeruk',\n",
       "       'Baso Aci Instan Culametan khas Garut ( isi 6 )',\n",
       "       'Gurilem Sangarrr',\n",
       "       'Kerupuk mawar putih mentah 500gram / kerupuk ikan mentah /seblak viral',\n",
       "       'NAAGIH! PAKET MIX 12 pack : 4 Seblak 4 Cuanki 4 Boci Instant RESELLER!',\n",
       "       'Toping Baso Aci Topping Cuanki Lidah Cuankie Lidah Isi 150 pcs seblak',\n",
       "       'Seblak Bantat Boboko Pedas Daun Jeruk Level 20 Khas Bandung 125g',\n",
       "       'SIOMAY MINI KERING 5 KG Garut campuran bahan baso Aci dan seblak',\n",
       "       'Gelichips Seblak Kering Sebring Camilan Kerupuk Pedas Daun Jeruk 65 gr',\n",
       "       'KERUPUK MAWAR PUTIH MENTAH ISI 1KG / KERUPUK VIRAL SEBLAK COBEK',\n",
       "       'Seblak instan Murah Enak',\n",
       "       'siomay mini kering 250 gram toping seblak baso aci',\n",
       "       'Kerupuk Seblak Kencur Gurih Asin Pedas 10 pcs/pak',\n",
       "       'Seblak Rempah Autentik Kyla Food Khas Bandung 115 g',\n",
       "       'Kerupuk seblak jengkol pedas berat 250 gram enak renyah pedas',\n",
       "       'BUNDLING SEBLAK OIFYOO (isi 5 packs)',\n",
       "       'KRUPUK SEBLAK PEDAS DAUN JERUK', 'SEBLAK KOMPLIT'], dtype=object)"
      ]
     },
     "execution_count": 65,
     "metadata": {},
     "output_type": "execute_result"
    }
   ],
   "source": [
    "# Unique value of Product Name column\n",
    "df['Product Name'].unique()"
   ]
  },
  {
   "cell_type": "markdown",
   "metadata": {},
   "source": [
    "From the provided code, the `unique` method is used to display the unique values within the `Product Name` column. No issues are identified in these findings."
   ]
  },
  {
   "cell_type": "code",
   "execution_count": 66,
   "metadata": {},
   "outputs": [
    {
     "data": {
      "text/plain": [
       "array(['Rp24.200', 'Rp9.450', 'Rp97.200', 'Rp19.800', 'Rp23.750',\n",
       "       'Rp9.405', 'Rp26.600', 'Rp15.000', 'Rp4.450', 'Rp4.500', 'Rp3.500',\n",
       "       'Rp11.500', 'Rp25.000', 'Rp10.000', 'Rp9.999', 'Rp16.000',\n",
       "       'Rp41.000', 'Rp39.500', 'Rp12.500', 'Rp5.999', 'Rp24.000',\n",
       "       'Rp47.260', 'Rp56.300', 'Rp18.500', 'Rp7.000', 'Rp50.000',\n",
       "       'Rp28.000', 'Rp9.750', 'Rp34.999', 'Rp17.300', 'Rp19.500',\n",
       "       'Rp25.500', 'Rp13.999', 'Rp7.138', 'Rp4.750', 'Rp3.800',\n",
       "       'Rp55.000', 'Rp10.600', 'Rp22.000', 'Rp130.000', 'Rp46.500',\n",
       "       'Rp32.500', 'Rp17.000', 'Rp26.000', 'Rp19.700', 'Rp13.900',\n",
       "       'Rp5.579', 'Rp115.000', 'Rp26.500', 'Rp5.000', 'Rp20.000',\n",
       "       'Rp25.800', 'Rp21.000', 'Rp26.970', 'Rp30.500', 'Rp22.140',\n",
       "       'Rp12.250', 'Rp4.999', 'Rp34.980', 'Rp16.800', 'Rp18.900',\n",
       "       'Rp18.000', 'Rp25.900', 'Rp27.500', 'Rp3.499', 'Rp6.000',\n",
       "       'Rp4.250', 'Rp699', 'Rp120.000', 'Rp7.500', 'Rp14.999', 'Rp15.300',\n",
       "       'Rp13.000', 'Rp44.500', 'Rp35.000', 'Rp17.700', 'Rp145.000',\n",
       "       'Rp7.999', 'Rp12.700', 'Rp14.550', 'Rp25.380', 'Rp8.000',\n",
       "       'Rp5.875'], dtype=object)"
      ]
     },
     "execution_count": 66,
     "metadata": {},
     "output_type": "execute_result"
    }
   ],
   "source": [
    "# Unique value of Price column\n",
    "df['Price'].unique()"
   ]
  },
  {
   "cell_type": "markdown",
   "metadata": {},
   "source": [
    "In the `Price` column, adjustments are needed to convert the data type to `Integer`. This involves removing the currency symbol \"Rp\" and any decimal points \".\" from the values."
   ]
  },
  {
   "cell_type": "code",
   "execution_count": 67,
   "metadata": {},
   "outputs": [
    {
     "data": {
      "text/plain": [
       "array([nan, 'kylafood', 'Brother Meat Shop', 'Foodstocks',\n",
       "       'snack neng nabila', 'Pusat Cuankie & Cemilan Frozen',\n",
       "       'BociKakang', 'the Dhecip', 'LEGIT SNACK', 'Anggris store',\n",
       "       'aghniya', 'Aydaa Snack', 'JAGO TOK PETOK', 'Beauty DELUXE',\n",
       "       'Markas Makaroni', 'CamilanJati', 'Lidigeli', 'Baso Aci Ayang',\n",
       "       'aurel prima snack', 'Toko Yazid Cita Rasa', 'Rak Sebelah',\n",
       "       'Mandumpang Jaya Olshop', 'global cookware1', 'home_nature',\n",
       "       'siskaarinang2', 'Kenal Jaya Bandung', 'CUANKI CULAMETAN',\n",
       "       'CuankiCulametan', 'Berkah Food Bandung', 'yohangunawan94',\n",
       "       'NomeL Shop', 'Pelangi Girls Naget 2', 'kira3arut',\n",
       "       'Bung Boe Snack', 'Snack Zone Official',\n",
       "       'Gerai Snack Official Shop', 'gaiagarut', 'Semesta kerupuk',\n",
       "       'Seblak Jeletet Murni', 'keripikususkrisis',\n",
       "       'Pisang Goreng Madu Bu Nanik', 'Utama.Snack', 'Snackzone PP',\n",
       "       'dakar_ofc', 'MSH Rempah', 'RIKI STORE 97',\n",
       "       'Agen bawang goreng mas YO', 'DRSukses', 'DelimaFCB',\n",
       "       'Dapur Sehat21', 'oke snack', 'Gallery Al-aziz',\n",
       "       'Bintang Snack & Camilan', 'iwan resistans leather',\n",
       "       'Warung Pak Hakim', 'Happy Family Cooking', 'ArfaOnlineShop',\n",
       "       'Tasya chocolate', 'Central Seblak Nusantara', 'FAG COLLECTION',\n",
       "       'PanganIndah', 'GEMLOV OFFICIAL', 'The Little Snacks',\n",
       "       'Ebay Store', 'Raabihah_kerupukgrosir', 'Kedai_boci',\n",
       "       'SerbaAda_6699', 'oifyoo_mozzarella', 'Ri_store.id',\n",
       "       'Meira Snacks'], dtype=object)"
      ]
     },
     "execution_count": 67,
     "metadata": {},
     "output_type": "execute_result"
    }
   ],
   "source": [
    "# Unique value of Seller column\n",
    "df['Seller'].unique()"
   ]
  },
  {
   "cell_type": "markdown",
   "metadata": {},
   "source": [
    "The values in the `Seller` column appear to be correct without any issues, only the nan values."
   ]
  },
  {
   "cell_type": "code",
   "execution_count": 68,
   "metadata": {},
   "outputs": [
    {
     "data": {
      "text/plain": [
       "array([nan, 'Bandung', 'Depok', 'Jakarta Selatan', 'Jakarta Timur',\n",
       "       'Tangerang Selatan', 'Jakarta Barat', 'Kab. Bogor', 'Surakarta',\n",
       "       'Surabaya', 'Kab. Bekasi', 'Kab. Sidoarjo', 'Kab. Garut',\n",
       "       'Jakarta Pusat', 'Kab. Tangerang', 'Cimahi', 'Kab. Sumedang',\n",
       "       'Kab. Gresik', 'Kab. Mojokerto', 'Kab. Bandung', 'Semarang',\n",
       "       'Tangerang', 'Makassar'], dtype=object)"
      ]
     },
     "execution_count": 68,
     "metadata": {},
     "output_type": "execute_result"
    }
   ],
   "source": [
    "# Unique value of Location column\n",
    "df['Location'].unique()"
   ]
  },
  {
   "cell_type": "markdown",
   "metadata": {},
   "source": [
    "The `Location` columns also appears to be correct, although there are still nan values."
   ]
  },
  {
   "cell_type": "code",
   "execution_count": 69,
   "metadata": {},
   "outputs": [
    {
     "data": {
      "text/plain": [
       "array(['250+ terjual', '4 rb+ terjual', '3 rb+ terjual', '10rb+ terjual',\n",
       "       '500+ terjual', '100+ terjual', '50+ terjual', nan, '3rb+ terjual',\n",
       "       '70+ terjual', '40+ terjual', '30+ terjual', '14 terjual',\n",
       "       '3 terjual', '6 terjual', '60+ terjual', '11 terjual',\n",
       "       '7rb+ terjual', '1rb+ terjual', '90+ terjual', '9 terjual',\n",
       "       '80+ terjual', '19 terjual', '2rb+ terjual', '2 terjual',\n",
       "       '4rb+ terjual', '750+ terjual', '26 terjual', '20 terjual',\n",
       "       '17 terjual', '7 terjual', '16 terjual', '15 terjual', '1 terjual',\n",
       "       '10 terjual', '8 terjual', '4 terjual', '5 terjual', '28 terjual',\n",
       "       '27 terjual'], dtype=object)"
      ]
     },
     "execution_count": 69,
     "metadata": {},
     "output_type": "execute_result"
    }
   ],
   "source": [
    "# Unique value of Amount Sold column\n",
    "df['Amount Sold'].unique()"
   ]
  },
  {
   "cell_type": "markdown",
   "metadata": {},
   "source": [
    "The `Amount Sold` column requires some adjustments. The word \"terjual\" should be removed to convert the data type to `Integer`. Additionally, the character \"+\" should be removed, and the word \"rb\" should be replaced with \"000\"."
   ]
  },
  {
   "cell_type": "code",
   "execution_count": 70,
   "metadata": {},
   "outputs": [
    {
     "data": {
      "text/plain": [
       "array([4.9, 4.8, 5. , nan, 4.7, 4.4, 4.6, 4.5, 4.2])"
      ]
     },
     "execution_count": 70,
     "metadata": {},
     "output_type": "execute_result"
    }
   ],
   "source": [
    "# Unique value of Rating column\n",
    "df['Rating'].unique()"
   ]
  },
  {
   "cell_type": "markdown",
   "metadata": {},
   "source": [
    "In the `Rating` column, the `None` or `nan` values should be replaced with 0 to align with the data type adjustment to `Float`. However, the missing values would be removed anyway."
   ]
  },
  {
   "cell_type": "markdown",
   "metadata": {},
   "source": [
    "##### **2. Data Cleaning**"
   ]
  },
  {
   "cell_type": "code",
   "execution_count": 71,
   "metadata": {},
   "outputs": [],
   "source": [
    "# Reads csv file and save it to a variable\n",
    "df = pd.read_csv(\"rawData.csv\")"
   ]
  },
  {
   "cell_type": "code",
   "execution_count": 72,
   "metadata": {},
   "outputs": [],
   "source": [
    "# Removing duplicated rows\n",
    "df = df.drop_duplicates()"
   ]
  },
  {
   "cell_type": "markdown",
   "metadata": {},
   "source": [
    "The inital step to clean the data is to remove duplicated rows using `drop_duplicates()`."
   ]
  },
  {
   "cell_type": "code",
   "execution_count": 73,
   "metadata": {},
   "outputs": [],
   "source": [
    "# Removing missing values rows\n",
    "df = df.dropna()"
   ]
  },
  {
   "cell_type": "markdown",
   "metadata": {},
   "source": [
    "As previously mentioned, rows containing missing values will be eliminated using the `dropna()` method."
   ]
  },
  {
   "cell_type": "code",
   "execution_count": 74,
   "metadata": {},
   "outputs": [
    {
     "data": {
      "text/plain": [
       "Product Name    0\n",
       "Price           0\n",
       "Seller          0\n",
       "Location        0\n",
       "Amount Sold     0\n",
       "Rating          0\n",
       "dtype: int64"
      ]
     },
     "execution_count": 74,
     "metadata": {},
     "output_type": "execute_result"
    }
   ],
   "source": [
    "df.isnull().sum()"
   ]
  },
  {
   "cell_type": "code",
   "execution_count": 75,
   "metadata": {},
   "outputs": [
    {
     "data": {
      "text/plain": [
       "array(['10000', '500', '100', '50', '3000', '70', '40', '250', '30', '14',\n",
       "       '6', '60', '11', '7000', '1000', '90', '9', '80', '19', '2000',\n",
       "       '4000', '750', '26', '20', '17', '7', '16', '1', '10', '8', '4',\n",
       "       '5', '28', '27'], dtype=object)"
      ]
     },
     "execution_count": 75,
     "metadata": {},
     "output_type": "execute_result"
    }
   ],
   "source": [
    "# Cleaning the Amount Sold column\n",
    "\n",
    "df.loc[:, 'Amount Sold'] = df.loc[:, 'Amount Sold'].str.replace(' terjual', '', regex=True)\n",
    "df.loc[:, 'Amount Sold'] = df.loc[:, 'Amount Sold'].str.replace('rb', '000', regex=True)\n",
    "df.loc[:, 'Amount Sold'] = df.loc[:, 'Amount Sold'].str.replace(r'\\+', '', regex=True)\n",
    "df.loc[:, 'Amount Sold'] = df.loc[:, 'Amount Sold'].str.replace(' ', '', regex=True)\n",
    "\n",
    "# Print unique values to verify changes\n",
    "df['Amount Sold'].unique()"
   ]
  },
  {
   "cell_type": "markdown",
   "metadata": {},
   "source": [
    "The code above cleans the `Amount Sold` column by removing \"terjual,\" replacing \"rb\" with \"000,\" removing \"+\", spaces, and filling NaN values with 0. This ensures uniformity and prepares the data for further analysis."
   ]
  },
  {
   "cell_type": "code",
   "execution_count": null,
   "metadata": {},
   "outputs": [],
   "source": []
  },
  {
   "cell_type": "code",
   "execution_count": 76,
   "metadata": {},
   "outputs": [
    {
     "data": {
      "text/plain": [
       "array(['19800', '23750', '9405', '26600', '4450', '4500', '3500', '11500',\n",
       "       '25000', '10000', '9999', '16000', '41000', '39500', '12500',\n",
       "       '15000', '5999', '24000', '47260', '56300', '24200', '18500',\n",
       "       '7000', '50000', '28000', '9750', '34999', '17300', '19500',\n",
       "       '25500', '13999', '7138', '4750', '3800', '55000', '10600',\n",
       "       '32500', '26000', '19700', '13900', '5579', '115000', '26500',\n",
       "       '5000', '25800', '21000', '26970', '30500', '22140', '12250',\n",
       "       '4999', '34980', '18000', '25900', '27500', '3499', '6000', '4250',\n",
       "       '699', '120000', '7500', '14999', '15300', '13000', '44500',\n",
       "       '17700', '7999', '12700', '14550', '25380', '8000'], dtype=object)"
      ]
     },
     "execution_count": 76,
     "metadata": {},
     "output_type": "execute_result"
    }
   ],
   "source": [
    "# Cleaning the Price column\n",
    "\n",
    "df.loc[:, 'Price'] = df.loc[:, 'Price'].str.replace('Rp', '', regex=True)\n",
    "df.loc[:, 'Price'] = df.loc[:, 'Price'].str.replace(r'\\.', '', regex=True)\n",
    "\n",
    "# Print unique values to verify changes\n",
    "df['Price'].unique()"
   ]
  },
  {
   "cell_type": "markdown",
   "metadata": {},
   "source": [
    "This part cleans the `Price` column by removing \"Rp\", decimal points \".\", and replacing empty strings or 'nan' with '0'. This ensures consistency in the data."
   ]
  },
  {
   "cell_type": "code",
   "execution_count": 77,
   "metadata": {},
   "outputs": [
    {
     "name": "stdout",
     "output_type": "stream",
     "text": [
      "Product Name     object\n",
      "Price             int32\n",
      "Seller           object\n",
      "Location         object\n",
      "Amount Sold       int32\n",
      "Rating          float64\n",
      "dtype: object\n"
     ]
    }
   ],
   "source": [
    "# Then apply type conversions safely\n",
    "df['Amount Sold'] = pd.to_numeric(df['Amount Sold'], errors='coerce').astype(int)\n",
    "df['Price'] = pd.to_numeric(df['Price'], errors='coerce').astype(int)\n",
    "\n",
    "# Check the data types again to confirm\n",
    "print(df.dtypes)"
   ]
  },
  {
   "cell_type": "markdown",
   "metadata": {},
   "source": [
    "The provided code fill None values to 0 and modifies the data types of specific columns:\n",
    "\n",
    "- `Price` column is converted to integer.\n",
    "- `Amount Sold` column is converted to integer.\n",
    "- `Rating` column is converted to float."
   ]
  },
  {
   "cell_type": "markdown",
   "metadata": {},
   "source": [
    "It appears that the data types have been successfully adjusted to match the expected format."
   ]
  },
  {
   "cell_type": "code",
   "execution_count": 78,
   "metadata": {},
   "outputs": [],
   "source": [
    "# Save cleaned data to csv\n",
    "df.to_csv('cleanData.csv', index=False)"
   ]
  },
  {
   "cell_type": "markdown",
   "metadata": {},
   "source": [
    "After cleaning, the processed data is saved in CSV format to continue analyzing it further."
   ]
  },
  {
   "cell_type": "markdown",
   "metadata": {},
   "source": [
    "#### **C. Business Understanding/Problem Statement**"
   ]
  },
  {
   "cell_type": "markdown",
   "metadata": {},
   "source": [
    "In this section, the SMART method is applied to analyze the problem statement:\n",
    "\n",
    "- **Specific** :\n",
    "The goal is to evaluate seblak product performance for dropshipping, aligning with the seller's objective of maximizing income.\n",
    "\n",
    "- **Measurable** :\n",
    "The objective is to enhance the profit margin by 5% from previous sales, specifically from 90% to 95%.\n",
    "\n",
    "- **Achievable** :\n",
    " Achieving a 5% increase in profit margin is feasible through effective market analysis and strategic decision-making.\n",
    "\n",
    "- **Relevant** :\n",
    "Evaluating the profit potential of selling seblak directly aligns with the objective of maximizing income through dropshipping.\n",
    "\n",
    "- **Time-based** :\n",
    "The profit margin increase goal will be achieved within 6 months, allowing market analysis, strategic adjustments, and implementation of new selling strategies.\n",
    "\n",
    "**Conclusion**\n",
    "\n",
    "The seller's objective is to optimize profit margins from 90% to 95% within a 6-month period through market analysis and dropshipping practices."
   ]
  },
  {
   "cell_type": "markdown",
   "metadata": {},
   "source": [
    "#### **D. Analysis**"
   ]
  },
  {
   "cell_type": "markdown",
   "metadata": {},
   "source": [
    "##### **Data Load**"
   ]
  },
  {
   "cell_type": "code",
   "execution_count": 79,
   "metadata": {},
   "outputs": [],
   "source": [
    "# Reads the file and save it to a variable\n",
    "data = pd.read_csv('cleanData.csv')"
   ]
  },
  {
   "cell_type": "markdown",
   "metadata": {},
   "source": [
    "##### **Central Tendency**"
   ]
  },
  {
   "cell_type": "markdown",
   "metadata": {},
   "source": [
    "To address the problem statement provided, the first step involves analyzing the central tendency and the normality test to check the distribution. This analysis focuses on three columns: `Price`, `Amount Sold`, and `Rating`. The central tendency metrics to be computed include the mean, median, mode, standard deviation, skewness, and kurtosis."
   ]
  },
  {
   "cell_type": "code",
   "execution_count": 80,
   "metadata": {},
   "outputs": [
    {
     "name": "stdout",
     "output_type": "stream",
     "text": [
      "Price\n",
      "\n",
      "Mean: 19751.56\n",
      "Median: 15000.00\n",
      "Mode: 15000.00\n",
      "Standard Deviation: 19135.14\n",
      "Skewness: 3.1920465276612435\n",
      "Kurtosis: 13.752323889876296\n"
     ]
    }
   ],
   "source": [
    "# Count central tendency and normality test\n",
    "\n",
    "print(\"Price\\n\")\n",
    "print(f\"Mean: {data['Price'].mean():.2f}\")\n",
    "print(f\"Median: {data['Price'].median():.2f}\")\n",
    "print(f\"Mode: {data['Price'].mode().values[0]:.2f}\")\n",
    "print(f\"Standard Deviation: {data['Price'].std():.2f}\")\n",
    "print(f\"Skewness: {data['Price'].skew()}\")\n",
    "print(f\"Kurtosis: {data['Price'].kurtosis()}\")"
   ]
  },
  {
   "cell_type": "markdown",
   "metadata": {},
   "source": [
    "From the `Price` column, it can be concluded that:\n",
    "- **Mean:** The average price of the products is Rp19,751.56.\n",
    "\n",
    "- **Median:** The median price, representing the middle value, is Rp15,000.00.\n",
    "\n",
    "- **Mode:** The  most frequent value, of the prices is Rp15,000.00.\n",
    "\n",
    "- **Standard Deviation:** The standard deviation of the price is Rp19.135.14.\n",
    "\n",
    "- **Skewness:** The skewness value of 3.19 indicates that the distribution of prices is highly skewed to the right, which means that there are a smaller number of very high-priced items pulling the average up. The skewness of a normal distribution supposed to be 0.\n",
    "\n",
    "- **Kurtosis:** The kurtosis value of 13.75 suggests that the distribution is more peaked than a normal distribution or is usually called Leptokurtic. This indicates a high level of outliers and extreme values in the data. The kurtosis of a normal distribution supposed to be 0.\n",
    "\n",
    "Overall, the distribution of prices appears to be heavily skewed to the right with a high degree of kurtosis, indicating **non-normality** and a **presence of outliers**."
   ]
  },
  {
   "cell_type": "code",
   "execution_count": 81,
   "metadata": {},
   "outputs": [
    {
     "data": {
      "image/png": "[encoded data removed]",
      "text/plain": [
       "<Figure size 1200x400 with 2 Axes>"
      ]
     },
     "metadata": {},
     "output_type": "display_data"
    }
   ],
   "source": [
    "# Create a figure side by side\n",
    "fig, axes = plt.subplots(1, 2, figsize=(12, 4))\n",
    "\n",
    "# Plot skewness\n",
    "sns.histplot(data['Price'], kde=True, ax=axes[0])\n",
    "axes[0].set_title('Skewness of Price')\n",
    "axes[0].set_xlabel('Price')\n",
    "axes[0].set_ylabel('Frequency')\n",
    "\n",
    "# Plot kurtosis\n",
    "sns.boxplot(data['Price'], ax=axes[1])\n",
    "axes[1].set_title('Kurtosis of Price')\n",
    "axes[1].set_xlabel('Price')\n",
    "axes[1].set_ylabel('Frequency')\n",
    "\n",
    "# Adjust layout\n",
    "plt.tight_layout()\n",
    "\n",
    "# Show the plots\n",
    "plt.show()"
   ]
  },
  {
   "cell_type": "markdown",
   "metadata": {},
   "source": [
    "For clarity, the provided figures illustrate the Skewness and Kurtosis of the price. The skewness plot reveals a highly skewed to the right, with the highest frequency observed around Rp15,000. Conversely, the kurtosis plot indicates a distribution with a few outliers or extreme values compared to a normal distribution.\n",
    "\n",
    "In summary, the data is **not normally distributed**. However, in this case, there's no need to handle outliers as they naturally exist within the dataset."
   ]
  },
  {
   "cell_type": "code",
   "execution_count": 82,
   "metadata": {},
   "outputs": [
    {
     "name": "stdout",
     "output_type": "stream",
     "text": [
      "Amount Sold\n",
      "\n",
      "Mean: 782\n",
      "Median: 100.0\n",
      "Mode: 100\n",
      "Standard Deviation: 2010.00\n",
      "Skewness: 3.706340569129557\n",
      "Kurtosis: 13.9285217710579\n"
     ]
    }
   ],
   "source": [
    "# Count central tendency and normality test\n",
    "\n",
    "print(\"Amount Sold\\n\")\n",
    "print(f\"Mean: {round(data['Amount Sold'].mean())}\")\n",
    "print(f\"Median: {data['Amount Sold'].median()}\")\n",
    "print(f\"Mode: {data['Amount Sold'].mode().values[0]}\")\n",
    "print(f\"Standard Deviation: {round(data['Amount Sold'].std()):.2f}\")\n",
    "print(f\"Skewness: {data['Amount Sold'].skew()}\")\n",
    "print(f\"Kurtosis: {data['Amount Sold'].kurtosis()}\")"
   ]
  },
  {
   "cell_type": "markdown",
   "metadata": {},
   "source": [
    "From the `Amount Sold` column, it can be concluded that:\n",
    "- **Mean:** The average amount sold of the products is 782.\n",
    "\n",
    "- **Median:** The median amount sold, representing the middle value, is 100 products.\n",
    "\n",
    "- **Mode:** The  most frequent value, of the amount sold is 100 products.\n",
    "\n",
    "- **Standard Deviation:** The standard deviation of the amount sold is 2010.\n",
    "\n",
    "- **Skewness:** The skewness value of 3.71 indicates that the distribution of amount sold is again highly skewed to the right, which means that there are fewer occurrences of high sales amounts compared to moderate or low sales amounts.\n",
    "\n",
    "- **Kurtosis:** The kurtosis value of 13.93 suggests that the distribution is more peaked than a normal distribution or is usually called Leptokurtic. This indicates a high level of outliers and extreme values in the data. The kurtosis of a normal distribution supposed to be 0.\n",
    "\n",
    "Overall, the distribution of amount sold is also appears to be heavily skewed to the right with a high degree of kurtosis, indicating **non-normality** and a **presence of outliers**."
   ]
  },
  {
   "cell_type": "code",
   "execution_count": 83,
   "metadata": {},
   "outputs": [
    {
     "data": {
      "image/png": "[encoded data removed]",
      "text/plain": [
       "<Figure size 1200x400 with 2 Axes>"
      ]
     },
     "metadata": {},
     "output_type": "display_data"
    }
   ],
   "source": [
    "# Create a figure side by side\n",
    "fig1, axes1 = plt.subplots(1, 2, figsize=(12, 4))\n",
    "\n",
    "# Plot skewness\n",
    "sns.histplot(data['Amount Sold'], kde=True, ax=axes1[0])\n",
    "axes1[0].set_title('Skewness of Amount Sold')\n",
    "axes1[0].set_xlabel('Amount Sold')\n",
    "axes1[0].set_ylabel('Frequency')\n",
    "\n",
    "# Plot kurtosis\n",
    "sns.boxplot(data['Amount Sold'], ax=axes1[1])\n",
    "axes1[1].set_title('Kurtosis of Amount Sold')\n",
    "axes1[1].set_xlabel('Amount Sold')\n",
    "axes1[1].set_ylabel('Frequency')\n",
    "\n",
    "# Adjust layout\n",
    "plt.tight_layout()\n",
    "\n",
    "# Show the plots\n",
    "plt.show()"
   ]
  },
  {
   "cell_type": "markdown",
   "metadata": {},
   "source": [
    "For clarity, the provided figures illustrate the Skewness and Kurtosis of the amount sold. The skewness plot reveals a more highly skewed to the right than the price. The kurtosis plot indicates a distribution with numerous outliers or extreme values compared to a normal distribution.\n",
    "\n",
    "In summary, the data is **not normally distributed**. However, in this case, there's no need to handle outliers as they naturally exist within the dataset."
   ]
  },
  {
   "cell_type": "code",
   "execution_count": 84,
   "metadata": {},
   "outputs": [
    {
     "name": "stdout",
     "output_type": "stream",
     "text": [
      "Rating\n",
      "\n",
      "Mean: 4.892307692307692\n",
      "Median: 4.9\n",
      "Mode: 4.9\n",
      "Standard Deviation: 0.14\n",
      "Skewness: -2.4789607492955232\n",
      "Kurtosis: 8.69664867336837\n"
     ]
    }
   ],
   "source": [
    "# Count central tendency and normality test\n",
    "\n",
    "print(\"Rating\\n\")\n",
    "print(f\"Mean: {data['Rating'].mean()}\")\n",
    "print(f\"Median: {data['Rating'].median()}\")\n",
    "print(f\"Mode: {data['Rating'].mode().values[0]}\")\n",
    "print(f\"Standard Deviation: {data['Rating'].std():.2f}\")\n",
    "print(f\"Skewness: {data['Rating'].skew()}\")\n",
    "print(f\"Kurtosis: {data['Rating'].kurtosis()}\")"
   ]
  },
  {
   "cell_type": "markdown",
   "metadata": {},
   "source": [
    "From the `Rating` column, it can be concluded that:\n",
    "- **Mean:** The average rating of the products is 4.89. This indicates the average rating given in the dataset suggests items are rated quite positively.\n",
    "\n",
    "- **Median:** The median rating, representing the middle value, is 4.9. The fact that the median is higher than the mean suggests that there might be some lower ratings dragging the mean down.\n",
    "\n",
    "- **Mode:** The  most frequent value, of the rating is 4.9.\n",
    "\n",
    "- **Standard Deviation:** The standard deviation of the rating is 0.14. A smaller standard deviation indicates that the ratings tend to be closer to the mean, while a larger standard deviation would suggest more variability in the ratings.\n",
    "\n",
    "- **Skewness:** The skewness value of -2.48 indicates that the distribution of rating is highly skewed to the left. This suggests that there may be a larger number of high ratings compared to low ratings.\n",
    "\n",
    "- **Kurtosis:** The kurtosis value of 8.70 suggests that the distribution is more peaked than a normal distribution or is usually called Leptokurtic. This indicates a high level of outliers and extreme values in the data. The kurtosis of a normal distribution supposed to be 0.\n",
    "\n",
    "Overall, the distribution of rating appears to be heavily skewed to the left with a high degree of kurtosis, indicating **non-normality** and a **presence of outliers**."
   ]
  },
  {
   "cell_type": "code",
   "execution_count": 85,
   "metadata": {},
   "outputs": [
    {
     "data": {
      "image/png": "[encoded data removed]",
      "text/plain": [
       "<Figure size 1200x400 with 2 Axes>"
      ]
     },
     "metadata": {},
     "output_type": "display_data"
    }
   ],
   "source": [
    "# Create a figure side by side\n",
    "fig2, axes2 = plt.subplots(1, 2, figsize=(12, 4))\n",
    "\n",
    "# Plot skewness\n",
    "sns.histplot(data['Rating'], kde=True, ax=axes2[0])\n",
    "axes2[0].set_title('Skewness of Rating')\n",
    "axes2[0].set_xlabel('Rating')\n",
    "axes2[0].set_ylabel('Frequency')\n",
    "\n",
    "# Plot kurtosis\n",
    "sns.boxplot(data['Rating'], ax=axes2[1])\n",
    "axes2[1].set_title('Kurtosis of Rating')\n",
    "axes2[1].set_xlabel('Rating')\n",
    "axes2[1].set_ylabel('Frequency')\n",
    "\n",
    "# Adjust layout\n",
    "plt.tight_layout()\n",
    "\n",
    "# Show the plots\n",
    "plt.show()"
   ]
  },
  {
   "cell_type": "markdown",
   "metadata": {},
   "source": [
    "The histogram showing the skewness of the rating reveals a high frequency of ratings at the upper end of the scale, with the mode at 4.9, indicating that the most common rating is very high. This pattern of concentration toward the higher end and fewer low ratings indicates that the majority of the products being rated are perceived positively. The lower ratings, which are relatively few, create a tail on the left side of the distribution making it a left-skewed.\n",
    "\n",
    "In summary, the data is **not normally distributed**. However, in this case, there's no need to handle outliers as they naturally exist within the dataset."
   ]
  },
  {
   "cell_type": "markdown",
   "metadata": {},
   "source": [
    "##### **Confidence Interval**"
   ]
  },
  {
   "cell_type": "markdown",
   "metadata": {},
   "source": [
    "The seller is interested in determining the potential income range from selling Seblak, using a 95% confidence interval. This crucial analysis provides an estimate of earnings, assisting in evaluating the financial prospects and profitability of the Seblak selling venture. By pinpointing these income thresholds, sellers can make well-informed decisions, preparing for both the best and worst financial outcomes."
   ]
  },
  {
   "cell_type": "code",
   "execution_count": 86,
   "metadata": {},
   "outputs": [
    {
     "name": "stdout",
     "output_type": "stream",
     "text": [
      "Lower Limit: 3587150.109336596\n",
      "Upper Limit: 20722713.319234833\n"
     ]
    }
   ],
   "source": [
    "# Calculate income from sales\n",
    "data['Income'] = data['Price'] * data['Amount Sold']\n",
    "\n",
    "# Count standard deviation\n",
    "std = data['Income'].std()\n",
    "\n",
    "# Sample size\n",
    "n = len(data)\n",
    "\n",
    "# Count 95% confidence interval for mean income\n",
    "low, up = stats.norm.interval(0.95,loc=data['Income'].mean(),scale=std/np.sqrt(n))\n",
    "print(f'Lower Limit: {low}')\n",
    "print(f'Upper Limit: {up}')"
   ]
  },
  {
   "cell_type": "markdown",
   "metadata": {},
   "source": [
    "The previous analysis concluded that the data doesn't follow a normal distribution. Usually, different methods are needed to calculate confidence intervals for non-normal data. However, in this case, it is **assumed** that the data is **distributed normally**.\n",
    "\n",
    "The calculated confidence interval suggests that the potential monthly income from selling Seblak ranges between **Rp3,587,150** and **Rp20,722,713** with a 95% level of confidence. This indicates that, based on the data analyzed, there is a high probability that the actual average income falls within this range."
   ]
  },
  {
   "cell_type": "markdown",
   "metadata": {},
   "source": [
    "##### **Hypothesis Testing**"
   ]
  },
  {
   "cell_type": "markdown",
   "metadata": {},
   "source": [
    "Next, the seller aims to understand the difference between selling prices in the Jabodetabek area and regions outside of it. To achieve this, the Two-Sample Independent Test will be used."
   ]
  },
  {
   "cell_type": "code",
   "execution_count": 87,
   "metadata": {},
   "outputs": [
    {
     "name": "stdout",
     "output_type": "stream",
     "text": [
      "Mean price Jabodetabek: Rp23547.882352941175\n",
      "Mean price others: Rp14911.25\n"
     ]
    }
   ],
   "source": [
    "# Stating Jabodetabek area\n",
    "area = ['Depok','Jakarta Selatan','Jakarta Timur','Tangerang Selatan','Jakarta Barat','Kab. Bogor','Kab. Bekasi',\n",
    "        'Jakarta Pusat','Kab. Tangerang','Tangerang']\n",
    "\n",
    "# Calculate mean price Jabodetabek\n",
    "priceJabodetabek = data[data['Location'].isin(area)]\n",
    "meanPriceJabodetabek = priceJabodetabek['Price'].mean()\n",
    "\n",
    "# Calculate mean price Others\n",
    "priceOthers = data[~data['Location'].isin(area)]\n",
    "meanPriceOthers = priceOthers['Price'].mean()\n",
    "\n",
    "# Show results\n",
    "print(f\"Mean price Jabodetabek: Rp{meanPriceJabodetabek}\")\n",
    "print(f\"Mean price others: Rp{meanPriceOthers}\")"
   ]
  },
  {
   "cell_type": "markdown",
   "metadata": {},
   "source": [
    "The analysis reveals a difference in Seblak selling prices between the Jabodetabek area and other regions. With the mean price in Jabodetabek at **Rp23.547** and outside it at **Rp14.911**, it highlights regional variations in pricing. Seller can use this information to tailor their pricing strategies for different markets."
   ]
  },
  {
   "cell_type": "markdown",
   "metadata": {},
   "source": [
    "The next step is to conduct a significance test to determine whether this difference is statistically significant. The hypothesis setup for this test is as follows:\n",
    "\n",
    "**H0**: Mean price of selling in Jabodetabek == Others\n",
    "\n",
    "**H1**: Mean price of selling in Jabodetabek != Others"
   ]
  },
  {
   "cell_type": "code",
   "execution_count": 88,
   "metadata": {},
   "outputs": [
    {
     "name": "stdout",
     "output_type": "stream",
     "text": [
      "T-Statistic: 2.18116640914606\n",
      "P-value: 0.031807588718720685\n"
     ]
    }
   ],
   "source": [
    "# Conduct t-test\n",
    "t_stat, p_val = stats.ttest_ind(priceJabodetabek['Price'], priceOthers['Price'])\n",
    "\n",
    "# Show results\n",
    "print('T-Statistic:',t_stat)\n",
    "print('P-value:',p_val)"
   ]
  },
  {
   "cell_type": "markdown",
   "metadata": {},
   "source": [
    "The T-test results show a T-statistic of **2.18** and a p-value of **0.03**. With the higher T-statistic indicating a difference between the mean prices in Jabodetabek (Rp23,547) and other areas (Rp14,911), the p-value < 0.05 confirms that this difference is statistically significant. This **rejection of the null hypothesis** suggests that the price variation is not due to chance but likely reflects a meaningful difference in mean selling prices between the regions.\n",
    "\n",
    "In conclusion, based on the statistically significant difference in selling prices, the analysis recommends that the pricing strategy for Seblak should differentiate between Jabodetabek and other areas solely based on the selling price."
   ]
  },
  {
   "cell_type": "markdown",
   "metadata": {},
   "source": [
    "##### **Correlation Analysis**"
   ]
  },
  {
   "cell_type": "markdown",
   "metadata": {},
   "source": [
    "Finally, the seller aims to understand if consumers have a preference for lower-priced products. To explore this, a correlation analysis will be conducted. This analysis will examine the relationship between the price and the amount sold, as well as between the price and ratings. This approach will reveal whether there's a tendency for consumers to favor more affordably priced items."
   ]
  },
  {
   "cell_type": "code",
   "execution_count": 89,
   "metadata": {},
   "outputs": [
    {
     "data": {
      "text/plain": [
       "<seaborn.axisgrid.FacetGrid at 0x162cc598fd0>"
      ]
     },
     "execution_count": 89,
     "metadata": {},
     "output_type": "execute_result"
    },
    {
     "data": {
      "image/png": "[encoded data removed]",
      "text/plain": [
       "<Figure size 500x500 with 1 Axes>"
      ]
     },
     "metadata": {},
     "output_type": "display_data"
    }
   ],
   "source": [
    "# Plot correlation between price vs amount sold\n",
    "sns.lmplot(data=data,x='Price', y='Amount Sold')"
   ]
  },
  {
   "cell_type": "code",
   "execution_count": 90,
   "metadata": {},
   "outputs": [
    {
     "name": "stdout",
     "output_type": "stream",
     "text": [
      "Correlation between price and amount sold:\n",
      "\n",
      "rho-correlation: -0.09, p-value: 0.42102338066507994\n"
     ]
    }
   ],
   "source": [
    "# Spearman techniques\n",
    "corr_rho, pval_s = stats.spearmanr(data['Price'], data['Amount Sold'])\n",
    "\n",
    "# Show results\n",
    "print(\"Correlation between price and amount sold:\\n\")\n",
    "print(f\"rho-correlation: {corr_rho:.2f}, p-value: {pval_s}\")"
   ]
  },
  {
   "cell_type": "code",
   "execution_count": 91,
   "metadata": {},
   "outputs": [
    {
     "data": {
      "text/html": [
       "<div>\n",
       "<style scoped>\n",
       "    .dataframe tbody tr th:only-of-type {\n",
       "        vertical-align: middle;\n",
       "    }\n",
       "\n",
       "    .dataframe tbody tr th {\n",
       "        vertical-align: top;\n",
       "    }\n",
       "\n",
       "    .dataframe thead th {\n",
       "        text-align: right;\n",
       "    }\n",
       "</style>\n",
       "<table border=\"1\" class=\"dataframe\">\n",
       "  <thead>\n",
       "    <tr style=\"text-align: right;\">\n",
       "      <th></th>\n",
       "      <th>Price</th>\n",
       "      <th>Amount Sold</th>\n",
       "    </tr>\n",
       "  </thead>\n",
       "  <tbody>\n",
       "    <tr>\n",
       "      <th>Price</th>\n",
       "      <td>1.000000</td>\n",
       "      <td>-0.085376</td>\n",
       "    </tr>\n",
       "    <tr>\n",
       "      <th>Amount Sold</th>\n",
       "      <td>-0.085376</td>\n",
       "      <td>1.000000</td>\n",
       "    </tr>\n",
       "  </tbody>\n",
       "</table>\n",
       "</div>"
      ],
      "text/plain": [
       "                Price  Amount Sold\n",
       "Price        1.000000    -0.085376\n",
       "Amount Sold -0.085376     1.000000"
      ]
     },
     "execution_count": 91,
     "metadata": {},
     "output_type": "execute_result"
    }
   ],
   "source": [
    "# Check using pandas\n",
    "df[['Price', 'Amount Sold']].corr(method='spearman')"
   ]
  },
  {
   "cell_type": "markdown",
   "metadata": {},
   "source": [
    "Spearman's correlation is used because both columns have high skewness. From the scattered plot, each point represents the price of a product and the amount sold. The trend shows a downward trend indicating that as the price increases, the amount sold tends to decrease. From the statistical analysis, Spearman's correlation is at -0.09 or -0.08 which indicates a weak negative relationship. The p-value also shows that the correlation between two variables is not significant.\n",
    "\n",
    "In summary, the analysis indicate a weak negative correlation between the price and amount sold. However, due to the p-values being higher than 0.05, the correlation is not statistically significant. Therefore, correlation between the two variables can't be determined based on this analysis."
   ]
  },
  {
   "cell_type": "code",
   "execution_count": 92,
   "metadata": {},
   "outputs": [
    {
     "data": {
      "text/plain": [
       "<seaborn.axisgrid.FacetGrid at 0x162c85d6ca0>"
      ]
     },
     "execution_count": 92,
     "metadata": {},
     "output_type": "execute_result"
    },
    {
     "data": {
      "image/png": "[encoded data removed]",
      "text/plain": [
       "<Figure size 500x500 with 1 Axes>"
      ]
     },
     "metadata": {},
     "output_type": "display_data"
    }
   ],
   "source": [
    "# Plot correlation between price vs rating\n",
    "sns.lmplot(data=data,x='Price', y='Rating')"
   ]
  },
  {
   "cell_type": "code",
   "execution_count": 93,
   "metadata": {},
   "outputs": [
    {
     "name": "stdout",
     "output_type": "stream",
     "text": [
      "Correlation between price and rating:\n",
      "\n",
      "rho-correlation: 0.08, p-value: 0.4342546448600786\n"
     ]
    }
   ],
   "source": [
    "# Spearman techniques\n",
    "corr_rho, pval_s = stats.spearmanr(data['Price'], data['Rating'])\n",
    "\n",
    "# Show results\n",
    "print(\"Correlation between price and rating:\\n\")\n",
    "print(f\"rho-correlation: {corr_rho:.2f}, p-value: {pval_s}\")"
   ]
  },
  {
   "cell_type": "code",
   "execution_count": 94,
   "metadata": {},
   "outputs": [
    {
     "data": {
      "text/html": [
       "<div>\n",
       "<style scoped>\n",
       "    .dataframe tbody tr th:only-of-type {\n",
       "        vertical-align: middle;\n",
       "    }\n",
       "\n",
       "    .dataframe tbody tr th {\n",
       "        vertical-align: top;\n",
       "    }\n",
       "\n",
       "    .dataframe thead th {\n",
       "        text-align: right;\n",
       "    }\n",
       "</style>\n",
       "<table border=\"1\" class=\"dataframe\">\n",
       "  <thead>\n",
       "    <tr style=\"text-align: right;\">\n",
       "      <th></th>\n",
       "      <th>Price</th>\n",
       "      <th>Rating</th>\n",
       "    </tr>\n",
       "  </thead>\n",
       "  <tbody>\n",
       "    <tr>\n",
       "      <th>Price</th>\n",
       "      <td>1.000000</td>\n",
       "      <td>0.082974</td>\n",
       "    </tr>\n",
       "    <tr>\n",
       "      <th>Rating</th>\n",
       "      <td>0.082974</td>\n",
       "      <td>1.000000</td>\n",
       "    </tr>\n",
       "  </tbody>\n",
       "</table>\n",
       "</div>"
      ],
      "text/plain": [
       "           Price    Rating\n",
       "Price   1.000000  0.082974\n",
       "Rating  0.082974  1.000000"
      ]
     },
     "execution_count": 94,
     "metadata": {},
     "output_type": "execute_result"
    }
   ],
   "source": [
    "# Check using pandas\n",
    "df[['Price', 'Rating']].corr(method='spearman')"
   ]
  },
  {
   "cell_type": "markdown",
   "metadata": {},
   "source": [
    "Spearman's method is used because both variables have high skewness. From the scattered plot, the trend between price and rating indicates a slightly upward trend. Meanwhile from the statistical analysis, Spearman's correlation is at 0.08 which indicates there is a positive relationship between variables. The p-value also shows that the correlation between two variables is not significant (> 0.05). Therefore, based on these analysis, it cannot be concluded that there is a correlation between price and rating for the given data."
   ]
  },
  {
   "cell_type": "markdown",
   "metadata": {},
   "source": [
    "#### **E. Conclusion**"
   ]
  },
  {
   "cell_type": "markdown",
   "metadata": {},
   "source": [
    "The overall takeaway from the provided code is as follows:\n",
    "\n",
    "- The implementation of web scraping for Seblak products on Tokopedia has been successfully executed.\n",
    "- The collected data requires cleaning, including tasks such as removing unnecessary parts, adjusting data types, eliminating duplicate and missing values rows, and more.\n",
    "- The seller's objective is to optimize profit margins from 90% to 95% within a 6-month period through market analysis and dropshipping practices.\n",
    "- The average and median of the price is Rp19,751.56 and Rp15,000.00.\n",
    "- The average and median amount of sold products is 782 and 100 products.\n",
    "- The average and median of the rating is 4.89 and 4.9.\n",
    "- The price, amount sold, and rating columns are all not distributed normally and have some outliers.\n",
    "- Based on a 95% confidence level, the potential monthly income from Seblak sales ranges from Rp3,587,150 and Rp20,722,713.\n",
    "- There is a significant difference in pricing between the Jabodetabek area and other regions. Therefore, selling prices in Jabodetabek area and other regions should be different.\n",
    "- Analysis reveals no substantial correlations between lower prices and customer preferences. Further analysis is needed to determine the relationship between these two."
   ]
  }
 ],
 "metadata": {
  "kernelspec": {
   "display_name": "hacktive",
   "language": "python",
   "name": "python3"
  },
  "language_info": {
   "codemirror_mode": {
    "name": "ipython",
    "version": 3
   },
   "file_extension": ".py",
   "mimetype": "text/x-python",
   "name": "python",
   "nbconvert_exporter": "python",
   "pygments_lexer": "ipython3",
   "version": "3.9.18"
  }
 },
 "nbformat": 4,
 "nbformat_minor": 2
}
