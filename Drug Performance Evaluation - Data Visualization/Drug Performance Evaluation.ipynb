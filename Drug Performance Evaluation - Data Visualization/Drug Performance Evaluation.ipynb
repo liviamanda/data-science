{
 "cells": [
  {
   "cell_type": "markdown",
   "metadata": {},
   "source": [
    "## **Drug Performance Evaluation**\n",
    "\n",
    "- **Name**  : Livia Amanda Annafiah\n",
    "- **Dataset** : [Drug Performance Evaluation](https://www.kaggle.com/datasets/thedevastator/drug-performance-evaluation)\n",
    "\n",
    "- **Tableau** : [Link](https://public.tableau.com/views/Tableau_Dashboard_17122463389420/MainMenu?:language=en-US&publish=yes&:sid=&:display_count=n&:origin=viz_share_link)\n",
    "\n",
    "-------\n",
    "##### **Program Description**\n",
    "The program is designed to analyze a specific dataset aimed at evaluating drug performance comprehensively. It encompasses a range of data analysis tasks, starting from data cleaning to data visualization techniques. The primary objective is to provide insights and facilitate decision-making processes related to drug performance.\n"
   ]
  },
  {
   "cell_type": "markdown",
   "metadata": {},
   "source": [
    "### **Problem Identification**"
   ]
  },
  {
   "cell_type": "markdown",
   "metadata": {},
   "source": [
    "##### **A. Topic**"
   ]
  },
  {
   "cell_type": "markdown",
   "metadata": {},
   "source": [
    "Evaluating Drug Effectiveness and Cost-Effectiveness in a Pharmaceutical Context."
   ]
  },
  {
   "cell_type": "markdown",
   "metadata": {},
   "source": [
    "##### **B. Problem Statement**"
   ]
  },
  {
   "cell_type": "markdown",
   "metadata": {},
   "source": [
    "**SMART Analysis**\n",
    "\n",
    "- **Specific**:\n",
    "The goal is to identify the most effective pharmaceutical drug that maximizes cost-efficiency for the company.\n",
    "\n",
    "- **Measurable**:\n",
    "The measurable outcome is to identify the most cost-effective drug, aiming to minimize costs by at least 15% while maintaining or improving drug performance metrics.\n",
    "\n",
    "- **Achievable**:\n",
    "This goal is achievable through data analysis to find the optimal balance between drug performance metrics and cost-effectiveness.\n",
    "\n",
    "- **Relevant**:\n",
    "This analysis is relevant to the company's strategic objectives, ensuring efficient allocation of resources and maximizing return on investment in pharmaceutical products.\n",
    "\n",
    "- **Time-Based**:\n",
    "The entire process, from data collection and analysis to decision-making and implementation, will be completed within a 6 months timeframe.\n",
    "\n",
    "\n",
    "\n",
    "**Conclusion**\n",
    "\n",
    "The goal is to identify the most cost-efficient pharmaceutical drug options, aiming to achieve a minimum cost reduction of 15%, all within a six-month period."
   ]
  },
  {
   "cell_type": "markdown",
   "metadata": {},
   "source": [
    "##### **C. Background**"
   ]
  },
  {
   "cell_type": "markdown",
   "metadata": {},
   "source": [
    "<center>\n",
    "\n",
    "![logo](./logo.png)"
   ]
  },
  {
   "cell_type": "markdown",
   "metadata": {},
   "source": [
    "[Roleplay]\n",
    "\n",
    "**Johnson & Johnson**, a leading pharmaceutical company, is facing financial challenges due to increased competition and rising costs. To boost profits, they are focusing on their pharmaceutical division. The specific aim is to identify the most effective drugs while also finding the most cost-efficient options, targeting a 15% cost reduction within six months. This strategic move aligns with their commitment to delivering quality healthcare solutions while improving financial performance and maintaining competitiveness in the market. "
   ]
  },
  {
   "cell_type": "markdown",
   "metadata": {},
   "source": [
    "##### **D. Description**"
   ]
  },
  {
   "cell_type": "markdown",
   "metadata": {},
   "source": [
    "**5W+1H**\n",
    "\n",
    "- **What** is the minimum number of reviews required to consider data as significant?\n",
    "\n",
    "- **Which** disease occurs most frequently?\n",
    "\n",
    "- **What** are the 5 most effective drugs from the most frequent disease?\n",
    "\n",
    "- **What** are the price of the top 5 effective drugs? **How** much is the drug with the lowest price?\n",
    "\n",
    "- **How** is the distribution of different drug forms (e.g., tablets, capsules, liquids) based on its ease of use rating?\n",
    "\n",
    "- **How** does the ease of use rating correlate with its satisfaction levels? Is there a trend where higher ease of use leads to higher satisfaction levels?\n",
    "\n",
    "- **Which** drugs gain higher satisfaction levels: prescription (RX) or over-the-counter (OTC)?\n",
    "\n",
    "- **How** does the top 5 drugs performed (effectiveness, ease of use, and satisfaction levels)?"
   ]
  },
  {
   "cell_type": "markdown",
   "metadata": {},
   "source": [
    "##### **E. Methods**"
   ]
  },
  {
   "cell_type": "markdown",
   "metadata": {},
   "source": [
    "- Confidence Interval\n",
    "- Filtering\n",
    "- Correlation Analysis\n",
    "- Hypothesis Testing (Two Sample Independent Test)"
   ]
  },
  {
   "cell_type": "markdown",
   "metadata": {},
   "source": [
    "### **Data Loading and Exploration**"
   ]
  },
  {
   "cell_type": "markdown",
   "metadata": {},
   "source": [
    "Dataset reference : https://www.kaggle.com/datasets/thedevastator/drug-performance-evaluation"
   ]
  },
  {
   "cell_type": "markdown",
   "metadata": {},
   "source": [
    "The initial step for the analysis is to load the CSV data titled 'Drug Performance Evaluation' obtained from Kaggle. Exploration is then conducted to gain insights into the data, understanding its contents, and identifying potential analyses and findings."
   ]
  },
  {
   "cell_type": "code",
   "execution_count": 88,
   "metadata": {},
   "outputs": [],
   "source": [
    "# Import library\n",
    "import pandas as pd\n",
    "import re\n",
    "import numpy as np\n",
    "from scipy import stats\n",
    "import matplotlib.pyplot as plt\n",
    "import seaborn as sns"
   ]
  },
  {
   "cell_type": "markdown",
   "metadata": {},
   "source": [
    "The provided code imports essential libraries for analysis. These include pandas for data manipulation, re for searching pattern, matplotlib and seaborn for creating visualizations, numpy for numerical computations, and scipy for statistical analysis."
   ]
  },
  {
   "cell_type": "code",
   "execution_count": 89,
   "metadata": {},
   "outputs": [
    {
     "data": {
      "text/html": [
       "<div>\n",
       "<style scoped>\n",
       "    .dataframe tbody tr th:only-of-type {\n",
       "        vertical-align: middle;\n",
       "    }\n",
       "\n",
       "    .dataframe tbody tr th {\n",
       "        vertical-align: top;\n",
       "    }\n",
       "\n",
       "    .dataframe thead th {\n",
       "        text-align: right;\n",
       "    }\n",
       "</style>\n",
       "<table border=\"1\" class=\"dataframe\">\n",
       "  <thead>\n",
       "    <tr style=\"text-align: right;\">\n",
       "      <th></th>\n",
       "      <th>Condition</th>\n",
       "      <th>Drug</th>\n",
       "      <th>Indication</th>\n",
       "      <th>Type</th>\n",
       "      <th>Reviews</th>\n",
       "      <th>Effective</th>\n",
       "      <th>EaseOfUse</th>\n",
       "      <th>Satisfaction</th>\n",
       "      <th>Information</th>\n",
       "    </tr>\n",
       "  </thead>\n",
       "  <tbody>\n",
       "    <tr>\n",
       "      <th>0</th>\n",
       "      <td>Acute Bacterial Sinusitis</td>\n",
       "      <td>Levofloxacin</td>\n",
       "      <td>On Label</td>\n",
       "      <td>RX</td>\n",
       "      <td>994 Reviews</td>\n",
       "      <td>2.52</td>\n",
       "      <td>3.01</td>\n",
       "      <td>1.84</td>\n",
       "      <td>\\r\\n\\t\\t\\t\\t\\tLevofloxacin is used to treat a ...</td>\n",
       "    </tr>\n",
       "    <tr>\n",
       "      <th>1</th>\n",
       "      <td>Acute Bacterial Sinusitis</td>\n",
       "      <td>Levofloxacin</td>\n",
       "      <td>On Label</td>\n",
       "      <td>RX</td>\n",
       "      <td>994 Reviews</td>\n",
       "      <td>2.52</td>\n",
       "      <td>3.01</td>\n",
       "      <td>1.84</td>\n",
       "      <td>\\r\\n\\t\\t\\t\\t\\tLevofloxacin is used to treat a ...</td>\n",
       "    </tr>\n",
       "    <tr>\n",
       "      <th>2</th>\n",
       "      <td>Acute Bacterial Sinusitis</td>\n",
       "      <td>Moxifloxacin</td>\n",
       "      <td>On Label</td>\n",
       "      <td>RX</td>\n",
       "      <td>755 Reviews</td>\n",
       "      <td>2.78</td>\n",
       "      <td>3.00</td>\n",
       "      <td>2.08</td>\n",
       "      <td>\\r\\n\\t\\t\\t\\t\\t This is a generic drug. The ave...</td>\n",
       "    </tr>\n",
       "    <tr>\n",
       "      <th>3</th>\n",
       "      <td>Acute Bacterial Sinusitis</td>\n",
       "      <td>Azithromycin</td>\n",
       "      <td>On Label</td>\n",
       "      <td>RX</td>\n",
       "      <td>584 Reviews</td>\n",
       "      <td>3.21</td>\n",
       "      <td>4.01</td>\n",
       "      <td>2.57</td>\n",
       "      <td>\\r\\n\\t\\t\\t\\t\\tAzithromycin is an antibiotic (m...</td>\n",
       "    </tr>\n",
       "    <tr>\n",
       "      <th>4</th>\n",
       "      <td>Acute Bacterial Sinusitis</td>\n",
       "      <td>Azithromycin</td>\n",
       "      <td>On Label</td>\n",
       "      <td>RX</td>\n",
       "      <td>584 Reviews</td>\n",
       "      <td>3.21</td>\n",
       "      <td>4.01</td>\n",
       "      <td>2.57</td>\n",
       "      <td>\\r\\n\\t\\t\\t\\t\\tAzithromycin is an antibiotic (m...</td>\n",
       "    </tr>\n",
       "    <tr>\n",
       "      <th>...</th>\n",
       "      <td>...</td>\n",
       "      <td>...</td>\n",
       "      <td>...</td>\n",
       "      <td>...</td>\n",
       "      <td>...</td>\n",
       "      <td>...</td>\n",
       "      <td>...</td>\n",
       "      <td>...</td>\n",
       "      <td>...</td>\n",
       "    </tr>\n",
       "    <tr>\n",
       "      <th>2214</th>\n",
       "      <td>vulvovaginal candidiasis</td>\n",
       "      <td>Clotrimazole</td>\n",
       "      <td>On Label</td>\n",
       "      <td>OTC</td>\n",
       "      <td>2 Reviews</td>\n",
       "      <td>5.00</td>\n",
       "      <td>5.00</td>\n",
       "      <td>5.00</td>\n",
       "      <td>\\r\\n\\t\\t\\t\\t\\tClotrimazole is used to treat sk...</td>\n",
       "    </tr>\n",
       "    <tr>\n",
       "      <th>2215</th>\n",
       "      <td>vulvovaginal candidiasis</td>\n",
       "      <td>Butoconazole Nitrate</td>\n",
       "      <td>On Label</td>\n",
       "      <td>RX</td>\n",
       "      <td>1 Reviews</td>\n",
       "      <td>5.00</td>\n",
       "      <td>5.00</td>\n",
       "      <td>5.00</td>\n",
       "      <td>\\r\\n\\t\\t\\t\\t\\tThis medication is used to treat...</td>\n",
       "    </tr>\n",
       "    <tr>\n",
       "      <th>2216</th>\n",
       "      <td>vulvovaginal candidiasis</td>\n",
       "      <td>Clotrimazole</td>\n",
       "      <td>On Label</td>\n",
       "      <td>OTC</td>\n",
       "      <td>1 Reviews</td>\n",
       "      <td>5.00</td>\n",
       "      <td>4.00</td>\n",
       "      <td>5.00</td>\n",
       "      <td>\\r\\n\\t\\t\\t\\t\\tClotrimazole is used to treat sk...</td>\n",
       "    </tr>\n",
       "    <tr>\n",
       "      <th>2217</th>\n",
       "      <td>vulvovaginal candidiasis</td>\n",
       "      <td>Butoconazole Nitrate</td>\n",
       "      <td>On Label</td>\n",
       "      <td>OTC</td>\n",
       "      <td>1 Reviews</td>\n",
       "      <td>5.00</td>\n",
       "      <td>5.00</td>\n",
       "      <td>5.00</td>\n",
       "      <td>\\r\\n\\t\\t\\t\\t\\tThis medication is used to treat...</td>\n",
       "    </tr>\n",
       "    <tr>\n",
       "      <th>2218</th>\n",
       "      <td>vulvovaginal candidiasis</td>\n",
       "      <td>Miconazole-Skin Clnsr17</td>\n",
       "      <td>On Label</td>\n",
       "      <td>OTC</td>\n",
       "      <td>1 Reviews</td>\n",
       "      <td>1.00</td>\n",
       "      <td>4.00</td>\n",
       "      <td>1.00</td>\n",
       "      <td>\\r\\n\\t\\t\\t\\t\\tThis medication is used to treat...</td>\n",
       "    </tr>\n",
       "  </tbody>\n",
       "</table>\n",
       "<p>2219 rows × 9 columns</p>\n",
       "</div>"
      ],
      "text/plain": [
       "                      Condition                     Drug Indication Type  \\\n",
       "0     Acute Bacterial Sinusitis             Levofloxacin   On Label   RX   \n",
       "1     Acute Bacterial Sinusitis             Levofloxacin   On Label   RX   \n",
       "2     Acute Bacterial Sinusitis             Moxifloxacin   On Label   RX   \n",
       "3     Acute Bacterial Sinusitis             Azithromycin   On Label   RX   \n",
       "4     Acute Bacterial Sinusitis             Azithromycin   On Label   RX   \n",
       "...                         ...                      ...        ...  ...   \n",
       "2214   vulvovaginal candidiasis             Clotrimazole   On Label  OTC   \n",
       "2215   vulvovaginal candidiasis     Butoconazole Nitrate   On Label   RX   \n",
       "2216   vulvovaginal candidiasis             Clotrimazole   On Label  OTC   \n",
       "2217   vulvovaginal candidiasis     Butoconazole Nitrate   On Label  OTC   \n",
       "2218   vulvovaginal candidiasis  Miconazole-Skin Clnsr17   On Label  OTC   \n",
       "\n",
       "          Reviews  Effective  EaseOfUse  Satisfaction  \\\n",
       "0     994 Reviews       2.52       3.01          1.84   \n",
       "1     994 Reviews       2.52       3.01          1.84   \n",
       "2     755 Reviews       2.78       3.00          2.08   \n",
       "3     584 Reviews       3.21       4.01          2.57   \n",
       "4     584 Reviews       3.21       4.01          2.57   \n",
       "...           ...        ...        ...           ...   \n",
       "2214    2 Reviews       5.00       5.00          5.00   \n",
       "2215    1 Reviews       5.00       5.00          5.00   \n",
       "2216    1 Reviews       5.00       4.00          5.00   \n",
       "2217    1 Reviews       5.00       5.00          5.00   \n",
       "2218    1 Reviews       1.00       4.00          1.00   \n",
       "\n",
       "                                            Information  \n",
       "0     \\r\\n\\t\\t\\t\\t\\tLevofloxacin is used to treat a ...  \n",
       "1     \\r\\n\\t\\t\\t\\t\\tLevofloxacin is used to treat a ...  \n",
       "2     \\r\\n\\t\\t\\t\\t\\t This is a generic drug. The ave...  \n",
       "3     \\r\\n\\t\\t\\t\\t\\tAzithromycin is an antibiotic (m...  \n",
       "4     \\r\\n\\t\\t\\t\\t\\tAzithromycin is an antibiotic (m...  \n",
       "...                                                 ...  \n",
       "2214  \\r\\n\\t\\t\\t\\t\\tClotrimazole is used to treat sk...  \n",
       "2215  \\r\\n\\t\\t\\t\\t\\tThis medication is used to treat...  \n",
       "2216  \\r\\n\\t\\t\\t\\t\\tClotrimazole is used to treat sk...  \n",
       "2217  \\r\\n\\t\\t\\t\\t\\tThis medication is used to treat...  \n",
       "2218  \\r\\n\\t\\t\\t\\t\\tThis medication is used to treat...  \n",
       "\n",
       "[2219 rows x 9 columns]"
      ]
     },
     "execution_count": 89,
     "metadata": {},
     "output_type": "execute_result"
    }
   ],
   "source": [
    "# Reads csv file and save it to a variable\n",
    "df = pd.read_csv(\"rawDrug.csv\")\n",
    "\n",
    "# Show dataframe\n",
    "df"
   ]
  },
  {
   "cell_type": "markdown",
   "metadata": {},
   "source": [
    "After importing the library, the next step involves loading the data using the `pd.read_csv` function and assigning it to a variable. This variable is then used to display the dataframe. Upon inspection of the dataframe, it reveals 2219 rows and 9 columns, which are as follows:\n",
    "\n",
    "- `Condition`: Provides information about the type of sickness or disease.\n",
    "- `Drug`: Contains information about the drug name.\n",
    "- `Indication`: Indicates whether the drug is on-label or off-label (FDA approved or not).\n",
    "- `Type`: Specifies whether the drug is prescription (RX) obtained from a doctor or over-the-counter (OTC) available from a pharmacy without a doctor's prescription.\n",
    "- `Reviews`: Represents the number of reviews the drug has received.\n",
    "- `Effective`: Reflects the effectiveness rating of the drug, indicating how well it treats the customers. (0-5)\n",
    "- `Ease of Use`: Rates the ease of use of the drug as reported by customers. (0-5)\n",
    "- `Satisfaction`: Indicates the level of satisfaction customers have with the drug. (0-5)\n",
    "- `Information`: Contains additional information about the drug."
   ]
  },
  {
   "cell_type": "code",
   "execution_count": 90,
   "metadata": {},
   "outputs": [
    {
     "data": {
      "text/html": [
       "<div>\n",
       "<style scoped>\n",
       "    .dataframe tbody tr th:only-of-type {\n",
       "        vertical-align: middle;\n",
       "    }\n",
       "\n",
       "    .dataframe tbody tr th {\n",
       "        vertical-align: top;\n",
       "    }\n",
       "\n",
       "    .dataframe thead th {\n",
       "        text-align: right;\n",
       "    }\n",
       "</style>\n",
       "<table border=\"1\" class=\"dataframe\">\n",
       "  <thead>\n",
       "    <tr style=\"text-align: right;\">\n",
       "      <th></th>\n",
       "      <th>Condition</th>\n",
       "      <th>Drug</th>\n",
       "      <th>Indication</th>\n",
       "      <th>Type</th>\n",
       "      <th>Reviews</th>\n",
       "      <th>Effective</th>\n",
       "      <th>EaseOfUse</th>\n",
       "      <th>Satisfaction</th>\n",
       "      <th>Information</th>\n",
       "    </tr>\n",
       "  </thead>\n",
       "  <tbody>\n",
       "    <tr>\n",
       "      <th>0</th>\n",
       "      <td>Acute Bacterial Sinusitis</td>\n",
       "      <td>Levofloxacin</td>\n",
       "      <td>On Label</td>\n",
       "      <td>RX</td>\n",
       "      <td>994 Reviews</td>\n",
       "      <td>2.52</td>\n",
       "      <td>3.01</td>\n",
       "      <td>1.84</td>\n",
       "      <td>\\r\\n\\t\\t\\t\\t\\tLevofloxacin is used to treat a ...</td>\n",
       "    </tr>\n",
       "    <tr>\n",
       "      <th>1</th>\n",
       "      <td>Acute Bacterial Sinusitis</td>\n",
       "      <td>Levofloxacin</td>\n",
       "      <td>On Label</td>\n",
       "      <td>RX</td>\n",
       "      <td>994 Reviews</td>\n",
       "      <td>2.52</td>\n",
       "      <td>3.01</td>\n",
       "      <td>1.84</td>\n",
       "      <td>\\r\\n\\t\\t\\t\\t\\tLevofloxacin is used to treat a ...</td>\n",
       "    </tr>\n",
       "    <tr>\n",
       "      <th>2</th>\n",
       "      <td>Acute Bacterial Sinusitis</td>\n",
       "      <td>Moxifloxacin</td>\n",
       "      <td>On Label</td>\n",
       "      <td>RX</td>\n",
       "      <td>755 Reviews</td>\n",
       "      <td>2.78</td>\n",
       "      <td>3.00</td>\n",
       "      <td>2.08</td>\n",
       "      <td>\\r\\n\\t\\t\\t\\t\\t This is a generic drug. The ave...</td>\n",
       "    </tr>\n",
       "    <tr>\n",
       "      <th>3</th>\n",
       "      <td>Acute Bacterial Sinusitis</td>\n",
       "      <td>Azithromycin</td>\n",
       "      <td>On Label</td>\n",
       "      <td>RX</td>\n",
       "      <td>584 Reviews</td>\n",
       "      <td>3.21</td>\n",
       "      <td>4.01</td>\n",
       "      <td>2.57</td>\n",
       "      <td>\\r\\n\\t\\t\\t\\t\\tAzithromycin is an antibiotic (m...</td>\n",
       "    </tr>\n",
       "    <tr>\n",
       "      <th>4</th>\n",
       "      <td>Acute Bacterial Sinusitis</td>\n",
       "      <td>Azithromycin</td>\n",
       "      <td>On Label</td>\n",
       "      <td>RX</td>\n",
       "      <td>584 Reviews</td>\n",
       "      <td>3.21</td>\n",
       "      <td>4.01</td>\n",
       "      <td>2.57</td>\n",
       "      <td>\\r\\n\\t\\t\\t\\t\\tAzithromycin is an antibiotic (m...</td>\n",
       "    </tr>\n",
       "  </tbody>\n",
       "</table>\n",
       "</div>"
      ],
      "text/plain": [
       "                   Condition          Drug Indication Type      Reviews  \\\n",
       "0  Acute Bacterial Sinusitis  Levofloxacin   On Label   RX  994 Reviews   \n",
       "1  Acute Bacterial Sinusitis  Levofloxacin   On Label   RX  994 Reviews   \n",
       "2  Acute Bacterial Sinusitis  Moxifloxacin   On Label   RX  755 Reviews   \n",
       "3  Acute Bacterial Sinusitis  Azithromycin   On Label   RX  584 Reviews   \n",
       "4  Acute Bacterial Sinusitis  Azithromycin   On Label   RX  584 Reviews   \n",
       "\n",
       "   Effective  EaseOfUse  Satisfaction  \\\n",
       "0       2.52       3.01          1.84   \n",
       "1       2.52       3.01          1.84   \n",
       "2       2.78       3.00          2.08   \n",
       "3       3.21       4.01          2.57   \n",
       "4       3.21       4.01          2.57   \n",
       "\n",
       "                                         Information  \n",
       "0  \\r\\n\\t\\t\\t\\t\\tLevofloxacin is used to treat a ...  \n",
       "1  \\r\\n\\t\\t\\t\\t\\tLevofloxacin is used to treat a ...  \n",
       "2  \\r\\n\\t\\t\\t\\t\\t This is a generic drug. The ave...  \n",
       "3  \\r\\n\\t\\t\\t\\t\\tAzithromycin is an antibiotic (m...  \n",
       "4  \\r\\n\\t\\t\\t\\t\\tAzithromycin is an antibiotic (m...  "
      ]
     },
     "execution_count": 90,
     "metadata": {},
     "output_type": "execute_result"
    }
   ],
   "source": [
    "df.head()"
   ]
  },
  {
   "cell_type": "markdown",
   "metadata": {},
   "source": [
    "The `head` method is used to display the first 5 rows of the table. From the result, there are some drug names that is duplicated, but with **varying values in other columns**. To maintain diversity and retain the wealth of data, drug names with different values will not be dropped. Instead, they will be assumed to represent different versions of the same drug."
   ]
  },
  {
   "cell_type": "code",
   "execution_count": 91,
   "metadata": {},
   "outputs": [
    {
     "name": "stdout",
     "output_type": "stream",
     "text": [
      "<class 'pandas.core.frame.DataFrame'>\n",
      "RangeIndex: 2219 entries, 0 to 2218\n",
      "Data columns (total 9 columns):\n",
      " #   Column        Non-Null Count  Dtype  \n",
      "---  ------        --------------  -----  \n",
      " 0   Condition     2219 non-null   object \n",
      " 1   Drug          2219 non-null   object \n",
      " 2   Indication    2219 non-null   object \n",
      " 3   Type          2219 non-null   object \n",
      " 4   Reviews       2219 non-null   object \n",
      " 5   Effective     2219 non-null   float64\n",
      " 6   EaseOfUse     2219 non-null   float64\n",
      " 7   Satisfaction  2219 non-null   float64\n",
      " 8   Information   2219 non-null   object \n",
      "dtypes: float64(3), object(6)\n",
      "memory usage: 156.1+ KB\n"
     ]
    }
   ],
   "source": [
    "# Checks summary information\n",
    "df.info()"
   ]
  },
  {
   "cell_type": "markdown",
   "metadata": {},
   "source": [
    "The `info()` method provides summary insights into the dataframe. It confirms the absence of missing values across all columns. Specifically, there are 6 columns with datatype `Object` and 3 columns with datatype `Float`. It's worth noting that certain datatypes may still require modification to ensure easier analysis."
   ]
  },
  {
   "cell_type": "code",
   "execution_count": 92,
   "metadata": {},
   "outputs": [
    {
     "data": {
      "text/plain": [
       "Condition       0\n",
       "Drug            0\n",
       "Indication      0\n",
       "Type            0\n",
       "Reviews         0\n",
       "Effective       0\n",
       "EaseOfUse       0\n",
       "Satisfaction    0\n",
       "Information     0\n",
       "dtype: int64"
      ]
     },
     "execution_count": 92,
     "metadata": {},
     "output_type": "execute_result"
    }
   ],
   "source": [
    "# Checks missing values\n",
    "df.isnull().sum()"
   ]
  },
  {
   "cell_type": "markdown",
   "metadata": {},
   "source": [
    "The `isnull().sum()` method checks for missing values in the data. It can be seen that the dataframe doesn't have any missing values, which is a positive aspect. This indicates that there's no necessity to remove columns with `None` values."
   ]
  },
  {
   "cell_type": "code",
   "execution_count": 93,
   "metadata": {},
   "outputs": [
    {
     "data": {
      "text/plain": [
       "466"
      ]
     },
     "execution_count": 93,
     "metadata": {},
     "output_type": "execute_result"
    }
   ],
   "source": [
    "# Count duplicated rows\n",
    "df.duplicated().sum()"
   ]
  },
  {
   "cell_type": "markdown",
   "metadata": {},
   "source": [
    "The `duplicated().sum()` method reveals that there are 466 duplicate rows in the dataset. Given that removing these duplicates won't affect the relevance of the data, they can be safely eliminated."
   ]
  },
  {
   "cell_type": "code",
   "execution_count": 94,
   "metadata": {},
   "outputs": [
    {
     "data": {
      "text/plain": [
       "array(['Acute Bacterial Sinusitis', 'adenocarcinoma of pancreas',\n",
       "       'Atopic Dermatitis', 'back pain', 'Bacterial Conjunctivitis',\n",
       "       'Bacterial Urinary Tract Infection', 'biliary calculus',\n",
       "       'chickenpox', 'colorectal cancer', 'depression',\n",
       "       'diverticulitis of gastrointestinal tract', 'edema',\n",
       "       'endometriosis', 'fever', 'fibromyalgia', 'flatulence',\n",
       "       'furunculosis', 'gastroesophageal reflux disease',\n",
       "       'genital herpes simplex', 'gout', 'hemorrhoids', 'herpes zoster',\n",
       "       'hypercholesterolemia', 'hypertension', 'impetigo',\n",
       "       'Infantile Autism', 'Influenza', \"meniere's disease\",\n",
       "       'oral candidiasis', 'Pharyngitis due to Streptococcus Pyogenes',\n",
       "       'prevention of cerebrovascular accident', 'pyelonephritis',\n",
       "       'scabies', 'Sleepiness Due To Obstructive Sleep Apnea',\n",
       "       'sore throat', 'vertigo', 'vulvovaginal candidiasis'], dtype=object)"
      ]
     },
     "execution_count": 94,
     "metadata": {},
     "output_type": "execute_result"
    }
   ],
   "source": [
    "# Checks unique values of Condition column\n",
    "df['Condition'].unique()"
   ]
  },
  {
   "cell_type": "markdown",
   "metadata": {},
   "source": [
    "The `unique` method is utilized to identify distinct values in the `Condition` column. This dataset contains numerous conditions, which will be categorized into a smaller set for more effective analysis.\n",
    "\n",
    "There are inconsistencies in the condition names, with some capitalized and others in lowercase. However, for this analysis, these inconsistencies are not important as the conditions name will be changed anyways."
   ]
  },
  {
   "cell_type": "code",
   "execution_count": 95,
   "metadata": {},
   "outputs": [
    {
     "data": {
      "text/plain": [
       "470"
      ]
     },
     "execution_count": 95,
     "metadata": {},
     "output_type": "execute_result"
    }
   ],
   "source": [
    "# Counts unique values of Drug column\n",
    "df['Drug'].nunique()"
   ]
  },
  {
   "cell_type": "markdown",
   "metadata": {},
   "source": [
    "The `nunique` method is used to count the unique values of the drugs to know how many drug is in the dataset. it can be conclued that there are 470 different drugs."
   ]
  },
  {
   "cell_type": "code",
   "execution_count": 96,
   "metadata": {},
   "outputs": [
    {
     "data": {
      "text/plain": [
       "array(['On Label', 'Off Label', '\\r\\n'], dtype=object)"
      ]
     },
     "execution_count": 96,
     "metadata": {},
     "output_type": "execute_result"
    }
   ],
   "source": [
    "# Checks unique values of Indication column\n",
    "df['Indication'].unique()"
   ]
  },
  {
   "cell_type": "markdown",
   "metadata": {},
   "source": [
    "The `unique` method is used to show the unique values of the `Indication` column. It is noted that there are two types of indication, 'On Label' and 'Off Label'. 'On Label' refers to drugs that are approved by the FDA for specific uses as indicated on their labels, ensuring their safety and efficacy. Conversely, 'Off Label' signifies the use of drugs for purposes not explicitly approved by the FDA, which may involve experimental treatments.\n",
    "\n",
    "However, since this distinction between 'On label' and 'Off label' indications isn't needed to the current analysis, it will be dropped or deleted from the dataset."
   ]
  },
  {
   "cell_type": "code",
   "execution_count": 97,
   "metadata": {},
   "outputs": [
    {
     "data": {
      "text/plain": [
       "array(['RX', 'OTC', 'RX/OTC', '\\r\\n'], dtype=object)"
      ]
     },
     "execution_count": 97,
     "metadata": {},
     "output_type": "execute_result"
    }
   ],
   "source": [
    "# Checks unique values of Type column\n",
    "df['Type'].unique()"
   ]
  },
  {
   "cell_type": "markdown",
   "metadata": {},
   "source": [
    "The `unique` method is also employed to observe the unique values in the 'Type' column. This column comprises three distinct values: 'RX', 'OTC', and 'RX/OTC'. 'RX' (prescription) indicates that the drug can only be obtained through a doctor's prescription, while 'OTC' (over the counter) implies that the drug is available directly at the pharmacy without a prescription."
   ]
  },
  {
   "cell_type": "code",
   "execution_count": 98,
   "metadata": {},
   "outputs": [
    {
     "data": {
      "text/plain": [
       "array(['994 Reviews', '755 Reviews', '584 Reviews', '437 Reviews',\n",
       "       '361 Reviews', '353 Reviews', '222 Reviews', '140 Reviews',\n",
       "       '72 Reviews', '43 Reviews', '40 Reviews', '23 Reviews',\n",
       "       '20 Reviews', '19 Reviews', '15 Reviews', '13 Reviews',\n",
       "       '12 Reviews', '11 Reviews', '10 Reviews', '5 Reviews', '4 Reviews',\n",
       "       '3 Reviews', '2 Reviews', '1 Reviews', '156 Reviews', '33 Reviews',\n",
       "       '29 Reviews', '27 Reviews', '26 Reviews', '17 Reviews',\n",
       "       '2575 Reviews', '586 Reviews', '364 Reviews', '321 Reviews',\n",
       "       '235 Reviews', '151 Reviews', '129 Reviews', '118 Reviews',\n",
       "       '113 Reviews', '104 Reviews', '89 Reviews', '79 Reviews',\n",
       "       '68 Reviews', '59 Reviews', '57 Reviews', '54 Reviews',\n",
       "       '47 Reviews', '41 Reviews', '38 Reviews', '34 Reviews',\n",
       "       '32 Reviews', '31 Reviews', '28 Reviews', '24 Reviews',\n",
       "       '22 Reviews', '21 Reviews', '18 Reviews', '16 Reviews',\n",
       "       '14 Reviews', '9 Reviews', '8 Reviews', '7 Reviews', '6 Reviews',\n",
       "       '135 Reviews', '127 Reviews', '92 Reviews', '71 Reviews',\n",
       "       '93 Reviews', '36 Reviews', '627 Reviews', '580 Reviews',\n",
       "       '573 Reviews', '538 Reviews', '466 Reviews', '348 Reviews',\n",
       "       '285 Reviews', '257 Reviews', '256 Reviews', '239 Reviews',\n",
       "       '226 Reviews', '204 Reviews', '203 Reviews', '144 Reviews',\n",
       "       '138 Reviews', '125 Reviews', '112 Reviews', '97 Reviews',\n",
       "       '52 Reviews', '37 Reviews', '30 Reviews', '25 Reviews',\n",
       "       '350 Reviews', '146 Reviews', '1126 Reviews', '452 Reviews',\n",
       "       '409 Reviews', '241 Reviews', '139 Reviews', '120 Reviews',\n",
       "       '103 Reviews', '88 Reviews', '58 Reviews', '53 Reviews',\n",
       "       '48 Reviews', '629 Reviews', '562 Reviews', '39 Reviews',\n",
       "       '853 Reviews', '378 Reviews', '224 Reviews', '196 Reviews',\n",
       "       '155 Reviews', '95 Reviews', '74 Reviews', '70 Reviews',\n",
       "       '619 Reviews', '450 Reviews', '359 Reviews', '357 Reviews',\n",
       "       '246 Reviews', '211 Reviews', '207 Reviews', '191 Reviews',\n",
       "       '180 Reviews', '166 Reviews', '154 Reviews', '133 Reviews',\n",
       "       '99 Reviews', '98 Reviews', '96 Reviews', '82 Reviews',\n",
       "       '81 Reviews', '80 Reviews', '77 Reviews', '76 Reviews',\n",
       "       '67 Reviews', '66 Reviews', '64 Reviews', '62 Reviews',\n",
       "       '60 Reviews', '51 Reviews', '46 Reviews', '42 Reviews',\n",
       "       '35 Reviews', '740 Reviews', '315 Reviews', '271 Reviews',\n",
       "       '186 Reviews', '55 Reviews', '4647 Reviews', '3066 Reviews',\n",
       "       '772 Reviews', '728 Reviews', '479 Reviews', '463 Reviews',\n",
       "       '332 Reviews', '298 Reviews', '219 Reviews', '176 Reviews',\n",
       "       '132 Reviews', '84 Reviews', '465 Reviews', '443 Reviews',\n",
       "       '381 Reviews', '367 Reviews', '297 Reviews', '254 Reviews',\n",
       "       '237 Reviews', '178 Reviews', '165 Reviews', '134 Reviews',\n",
       "       '116 Reviews', '110 Reviews', '78 Reviews', '73 Reviews',\n",
       "       '63 Reviews', '894 Reviews', '745 Reviews', '732 Reviews',\n",
       "       '595 Reviews', '259 Reviews', '255 Reviews', '117 Reviews',\n",
       "       '90 Reviews', '44 Reviews', '61 Reviews', '1028 Reviews',\n",
       "       '995 Reviews', '766 Reviews', '534 Reviews', '390 Reviews',\n",
       "       '289 Reviews', '274 Reviews', '193 Reviews', '190 Reviews',\n",
       "       '168 Reviews', '160 Reviews', '114 Reviews', '107 Reviews',\n",
       "       '56 Reviews', '45 Reviews', '4268 Reviews', '1268 Reviews',\n",
       "       '895 Reviews', '794 Reviews', '746 Reviews', '666 Reviews',\n",
       "       '645 Reviews', '601 Reviews', '582 Reviews', '510 Reviews',\n",
       "       '440 Reviews', '418 Reviews', '374 Reviews', '341 Reviews',\n",
       "       '325 Reviews', '251 Reviews', '229 Reviews', '221 Reviews',\n",
       "       '183 Reviews', '177 Reviews', '157 Reviews', '150 Reviews',\n",
       "       '147 Reviews', '131 Reviews', '85 Reviews', '69 Reviews',\n",
       "       '65 Reviews', '50 Reviews', '455 Reviews', '197 Reviews',\n",
       "       '383 Reviews', '225 Reviews', '124 Reviews', '233 Reviews',\n",
       "       '145 Reviews', '87 Reviews', '356 Reviews', '188 Reviews',\n",
       "       '263 Reviews', '123 Reviews'], dtype=object)"
      ]
     },
     "execution_count": 98,
     "metadata": {},
     "output_type": "execute_result"
    }
   ],
   "source": [
    "# Checks unique values of Reviews column\n",
    "df['Reviews'].unique()"
   ]
  },
  {
   "cell_type": "markdown",
   "metadata": {},
   "source": [
    "The `unique` method is then utilized to show the values in the `Reviews` column. It is observed that the datatype for this column is still an object. To make sure a countable analysis, this datatype should be converted to an `Integer`. This can be achieved by removing the word \"Reviews\" from the values in the column."
   ]
  },
  {
   "cell_type": "code",
   "execution_count": 99,
   "metadata": {},
   "outputs": [
    {
     "data": {
      "text/plain": [
       "'\\r\\n\\t\\t\\t\\t\\tLevofloxacin is used to treat a variety of bacterial infections. This is a generic drug. The average cash price for 10 Tablet(s), 500mg each of the generic (levofloxacin) is $172.99. You can buy levofloxacin at the discounted price of $47.08 by using the WebMDRx coupon, a savings of 73%. Even if this drug is covered by Medicare or your insurance, we recommend you compare prices. The WebMDRx coupon or cash price may be less than your co-pay.\\r\\n\\t\\t\\t\\t'"
      ]
     },
     "execution_count": 99,
     "metadata": {},
     "output_type": "execute_result"
    }
   ],
   "source": [
    "# Checks content of Information column\n",
    "df['Information'][0]"
   ]
  },
  {
   "cell_type": "markdown",
   "metadata": {},
   "source": [
    "The code above displays the content of the first index in the `Information` column to understand its contents. It reveals that the information includes valuable details such as the quantity of each drug, its form, average price, discounted price, savings, etc. Extracting the average price and the form of the drug from this column can contribute to adding new data for the analysis."
   ]
  },
  {
   "cell_type": "markdown",
   "metadata": {},
   "source": [
    "### **Data Cleaning**"
   ]
  },
  {
   "cell_type": "code",
   "execution_count": 100,
   "metadata": {},
   "outputs": [],
   "source": [
    "# Drop duplicates\n",
    "df = df.drop_duplicates()"
   ]
  },
  {
   "cell_type": "markdown",
   "metadata": {},
   "source": [
    "To eliminate duplicate rows from the dataset, the `drop_duplicates()` method is applied, which removes unnecessary and redundant rows."
   ]
  },
  {
   "cell_type": "code",
   "execution_count": 101,
   "metadata": {},
   "outputs": [],
   "source": [
    "# Create function to categorize Condition column\n",
    "def categorizeCondition(cond):\n",
    "    infectious = ['Acute Bacterial Sinusitis', 'Bacterial Conjunctivitis', 'Bacterial Urinary Tract Infection', 'chickenpox', 'impetigo', 'Influenza',\n",
    "                  'vulvovaginal candidiasis', 'scabies', 'Pharyngitis due to Streptococcus Pyogenes', 'oral candidiasis', 'pyelonephritis']\n",
    "    chronic = ['adenocarcinoma of pancreas', 'colorectal cancer', 'depression', 'fibromyalgia', 'genital herpes simplex', 'hypercholesterolemia',\n",
    "               'hypertension', \"meniere's disease\", 'prevention of cerebrovascular accident']\n",
    "    gastro = ['biliary calculus', 'diverticulitis of gastrointestinal tract', 'flatulence', 'gastroesophageal reflux disease']\n",
    "    pain = ['back pain', 'edema', 'fever', 'gout', 'hemorrhoids', 'herpes zoster', 'sore throat']\n",
    "    skin = ['Atopic Dermatitis', 'furunculosis']\n",
    "    sleep = ['Sleepiness Due To Obstructive Sleep Apnea', 'vertigo']\n",
    "\n",
    "    if cond in infectious:\n",
    "        return 'Infectious Disease'\n",
    "    elif cond in chronic:\n",
    "        return 'Chronic Disease'\n",
    "    elif cond in gastro:\n",
    "        return 'Gastrointestinal Disease'\n",
    "    elif cond in pain:\n",
    "        return 'Pain and Inflammation'\n",
    "    elif cond in skin:\n",
    "        return 'Skin Condition'\n",
    "    elif cond in sleep:\n",
    "        return 'Sleep Disorders'\n",
    "    else:\n",
    "        return 'Others'\n",
    "\n",
    "# Apply function to the Condition column    \n",
    "df.loc[:, 'Condition'] = df.loc[:, 'Condition'].apply(categorizeCondition)"
   ]
  },
  {
   "cell_type": "markdown",
   "metadata": {},
   "source": [
    "The code defines a function `categorizeCondition` to categorize condition types in the `Condition` column into disease categories such as infectious, chronic, gastrointestinal, pain, skin, and sleep disorders. It uses predefined lists of conditions for each category and assigns the corresponding category based on the condition. For disease that is not defined will be return with 'Others'. The function is then applied to the `Condition` column of the dataframe to categorize conditions, facilitating easier data analysis by disease type."
   ]
  },
  {
   "cell_type": "code",
   "execution_count": 102,
   "metadata": {},
   "outputs": [
    {
     "name": "stderr",
     "output_type": "stream",
     "text": [
      "C:\\Users\\septi\\AppData\\Local\\Temp\\ipykernel_10632\\2080583650.py:31: SettingWithCopyWarning: \n",
      "A value is trying to be set on a copy of a slice from a DataFrame.\n",
      "Try using .loc[row_indexer,col_indexer] = value instead\n",
      "\n",
      "See the caveats in the documentation: https://pandas.pydata.org/pandas-docs/stable/user_guide/indexing.html#returning-a-view-versus-a-copy\n",
      "  df.loc[:, 'Average Price'] = average_prices\n",
      "C:\\Users\\septi\\AppData\\Local\\Temp\\ipykernel_10632\\2080583650.py:32: SettingWithCopyWarning: \n",
      "A value is trying to be set on a copy of a slice from a DataFrame.\n",
      "Try using .loc[row_indexer,col_indexer] = value instead\n",
      "\n",
      "See the caveats in the documentation: https://pandas.pydata.org/pandas-docs/stable/user_guide/indexing.html#returning-a-view-versus-a-copy\n",
      "  df.loc[:, 'Form'] = forms\n"
     ]
    }
   ],
   "source": [
    "import re\n",
    "\n",
    "# Define empty lists\n",
    "average_prices = []\n",
    "forms = []\n",
    "\n",
    "# Identify exploratory keywords\n",
    "exploratory_keywords = ['Capsule(s)','Capsule','Tablet(s)','Tablet','tablets','Bottle','Vial(s)','Vial','Reconstituted(s)','Reconstituted','Tube','Jar','Can','Box','Syringe','Implant','Package','Pen(s)','Inhaler']\n",
    "\n",
    "# Iterate over each row in the DataFrame\n",
    "for index, row in df.iterrows():\n",
    "    \n",
    "    information = row['Information']\n",
    "    \n",
    "    # Extract average price\n",
    "    price_search = re.search(r'\\$(\\d+\\.\\d+)', information)\n",
    "    if price_search:\n",
    "        average_prices.append(float(price_search.group(1)))\n",
    "    else:\n",
    "        average_prices.append(None)\n",
    "    \n",
    "    # Identify form\n",
    "    form_found = None\n",
    "    for keyword in exploratory_keywords:\n",
    "        if keyword in information:\n",
    "            form_found = keyword\n",
    "            break\n",
    "    forms.append(form_found if form_found else \"Unknown\")\n",
    "\n",
    "# Assign the lists as new columns in the dataframe using .loc\n",
    "df.loc[:, 'Average Price'] = average_prices\n",
    "df.loc[:, 'Form'] = forms\n"
   ]
  },
  {
   "cell_type": "markdown",
   "metadata": {},
   "source": [
    "**Note** : Please note that the issue is a SettingWithCopyWarning, not an error. Even after attempting different approaches such as utilizing .loc, the warning continues to appear."
   ]
  },
  {
   "cell_type": "markdown",
   "metadata": {},
   "source": [
    "The code above creates two different lists, 'average_prices' and 'forms', that is extracted from the `Information` column in the dataframe. It uses a regex pattern to find average prices and identifies drug forms using a list of exploratory keywords. These lists are then added as new columns (`Average Price` and `Form`) to enrich the dataset for further analysis."
   ]
  },
  {
   "cell_type": "code",
   "execution_count": 103,
   "metadata": {},
   "outputs": [],
   "source": [
    "# Drops column with unknown form\n",
    "df = df[df['Form'] != 'Unknown']"
   ]
  },
  {
   "cell_type": "markdown",
   "metadata": {},
   "source": [
    "After creating the `Form` column, the rows with unknown form are removed from the dataset to streamline the data for more accurate analysis."
   ]
  },
  {
   "cell_type": "code",
   "execution_count": 104,
   "metadata": {},
   "outputs": [
    {
     "data": {
      "text/plain": [
       "array(['Tablet(s)', 'Bottle', 'tablets', 'Capsule(s)', 'Vial(s)',\n",
       "       'Reconstituted(s)', 'Reconstituted', 'Vial', 'Tube', 'Can',\n",
       "       'Tablet', 'Jar', 'Box', 'Syringe', 'Implant', 'Package', 'Capsule',\n",
       "       'Pen(s)', 'Inhaler'], dtype=object)"
      ]
     },
     "execution_count": 104,
     "metadata": {},
     "output_type": "execute_result"
    }
   ],
   "source": [
    "df['Form'].unique()"
   ]
  },
  {
   "cell_type": "markdown",
   "metadata": {},
   "source": [
    "The results indicate that the `Form` column contains redundancy and variation. To improve consistency and facilitate effective analysis, the forms will be categorized into categories."
   ]
  },
  {
   "cell_type": "code",
   "execution_count": 105,
   "metadata": {},
   "outputs": [],
   "source": [
    "# Create a function to categorize the Form column\n",
    "def categorizeDrugForm(form):\n",
    "    oral_solids = ['Tablet(s)', 'Tablet', 'tablets', 'Capsule(s)', 'Capsule']\n",
    "    oral_liquids = ['Bottle']\n",
    "    ointments = ['Tube', 'Can', 'Jar']\n",
    "    injectables = ['Vial', 'Reconstituted', 'Reconstituted(s)', 'Vial(s)', 'Pen(s)', 'Syringe']\n",
    "    others = ['Box', 'Package', 'Inhaler', 'Implant']\n",
    "\n",
    "    if form in oral_solids:\n",
    "        return 'Oral Solids'\n",
    "    elif form in oral_liquids:\n",
    "        return 'Oral Liquids'\n",
    "    elif form in ointments:\n",
    "        return 'Ointments'\n",
    "    elif form in injectables:\n",
    "        return 'Injectables'\n",
    "    else:\n",
    "        return 'Others'\n",
    "\n",
    "# Apply function to the new Form column \n",
    "df['Form'] = df['Form'].apply(categorizeDrugForm)"
   ]
  },
  {
   "cell_type": "markdown",
   "metadata": {},
   "source": [
    "The code defines a function to categorize the drug forms. The new variables are then assigned to describe the specific form and its category. The function is then applied to the `Form` column."
   ]
  },
  {
   "cell_type": "code",
   "execution_count": 106,
   "metadata": {},
   "outputs": [],
   "source": [
    "# Create an empty dictionary to store drug counts\n",
    "drugCount = {}\n",
    "\n",
    "# Iterate through each row in the dataframe\n",
    "for index, row in df.iterrows():\n",
    "    drugName = row['Drug']\n",
    "    \n",
    "    # Check if the drug name is already in the drugCount dictionary\n",
    "    if drugName in drugCount:\n",
    "        drugCount[drugName] += 1\n",
    "        newName = f\"{drugName} {drugCount[drugName]}\"\n",
    "    else:\n",
    "        drugCount[drugName] = 1\n",
    "        newName = drugName\n",
    "        \n",
    "    # Update the 'Drug' column with the new name\n",
    "    df.loc[index, 'Drug'] = newName"
   ]
  },
  {
   "cell_type": "markdown",
   "metadata": {},
   "source": [
    "The code above implements the renaming of drug names with different values in other columns. For example, if there are multiple occurrences of 'Levofloxacin', the second occurrence will be renamed as 'Levofloxacin 2', and the next occurrences will follow this pattern. This approach ensures that each variation of the drug name is uniquely identified in the dataset."
   ]
  },
  {
   "cell_type": "code",
   "execution_count": 107,
   "metadata": {},
   "outputs": [],
   "source": [
    "# Remove words and convert datatypes\n",
    "df['Reviews'] = df['Reviews'].str.replace('Reviews', '').astype(int)"
   ]
  },
  {
   "cell_type": "markdown",
   "metadata": {},
   "source": [
    "To convert the `Reviews` column from `Object` to `Integer` datatype, the word \"Reviews\" is removed using the `str.replace` method. Afterward, the datatype is changed to `Integer` using the `astype` method."
   ]
  },
  {
   "cell_type": "code",
   "execution_count": 108,
   "metadata": {},
   "outputs": [],
   "source": [
    "# Rename column\n",
    "df = df.rename(columns={'EaseOfUse': 'Ease of Use'})"
   ]
  },
  {
   "cell_type": "markdown",
   "metadata": {},
   "source": [
    "The column `EaseofUse` is renamed to ensure cleanliness of the data using `rename` function."
   ]
  },
  {
   "cell_type": "code",
   "execution_count": 109,
   "metadata": {},
   "outputs": [],
   "source": [
    "# Remove unnecessary columns\n",
    "df = df.drop(columns=['Indication', 'Information'])"
   ]
  },
  {
   "cell_type": "markdown",
   "metadata": {},
   "source": [
    "Once all necessary information has been obtained, the unnecessary columns such as `Indication` and `Information` are removed from the dataframe to refine the dataset."
   ]
  },
  {
   "cell_type": "code",
   "execution_count": 112,
   "metadata": {},
   "outputs": [],
   "source": [
    "# Create a copy and save to a CSV format\n",
    "dfClean = df.copy()\n",
    "dfClean.to_csv('cleanedDrug.csv', index=False)"
   ]
  },
  {
   "cell_type": "markdown",
   "metadata": {},
   "source": [
    "Finally, the cleaned dataframe is saved in CSV format for further analysis."
   ]
  },
  {
   "cell_type": "markdown",
   "metadata": {},
   "source": [
    "### **Analysis**"
   ]
  },
  {
   "cell_type": "markdown",
   "metadata": {},
   "source": [
    "##### **Minimum Number of Reviews**"
   ]
  },
  {
   "cell_type": "markdown",
   "metadata": {},
   "source": [
    "To validate the dataset's significance, confidence intervals is used to calculate the minimum number of reviews required."
   ]
  },
  {
   "cell_type": "code",
   "execution_count": 113,
   "metadata": {},
   "outputs": [
    {
     "name": "stdout",
     "output_type": "stream",
     "text": [
      "Lower Limit: 51.96319767779154\n",
      "Upper Limit: 72.64298246685014\n"
     ]
    }
   ],
   "source": [
    "# Method 1 : Confidence Interval\n",
    "\n",
    "# Calculating lower and upper boundary\n",
    "std = dfClean['Reviews'].std()\n",
    "N = len(dfClean['Reviews'])\n",
    "low, up = stats.norm.interval(0.95,loc=dfClean['Reviews'].mean(),scale=std/np.sqrt(N))\n",
    "print('Lower Limit:',low)\n",
    "print('Upper Limit:',up)"
   ]
  },
  {
   "cell_type": "markdown",
   "metadata": {},
   "source": [
    "To determine the minimum number of reviews considered significant, a **confidence interval** is calculated with a 95% confidence level. However, since higher review counts are preferable, **only the lower boundary** of the confidence interval is needed for this analysis.\n",
    "\n",
    "After computing the lower boundary using confidence intervals, it is found that the lower boundary is approximately **52 reviews**."
   ]
  },
  {
   "cell_type": "code",
   "execution_count": 114,
   "metadata": {},
   "outputs": [
    {
     "data": {
      "text/html": [
       "<div>\n",
       "<style scoped>\n",
       "    .dataframe tbody tr th:only-of-type {\n",
       "        vertical-align: middle;\n",
       "    }\n",
       "\n",
       "    .dataframe tbody tr th {\n",
       "        vertical-align: top;\n",
       "    }\n",
       "\n",
       "    .dataframe thead th {\n",
       "        text-align: right;\n",
       "    }\n",
       "</style>\n",
       "<table border=\"1\" class=\"dataframe\">\n",
       "  <thead>\n",
       "    <tr style=\"text-align: right;\">\n",
       "      <th></th>\n",
       "      <th>Condition</th>\n",
       "      <th>Drug</th>\n",
       "      <th>Type</th>\n",
       "      <th>Reviews</th>\n",
       "      <th>Effective</th>\n",
       "      <th>Ease of Use</th>\n",
       "      <th>Satisfaction</th>\n",
       "      <th>Average Price</th>\n",
       "      <th>Form</th>\n",
       "    </tr>\n",
       "  </thead>\n",
       "  <tbody>\n",
       "    <tr>\n",
       "      <th>0</th>\n",
       "      <td>Infectious Disease</td>\n",
       "      <td>Levofloxacin</td>\n",
       "      <td>RX</td>\n",
       "      <td>994</td>\n",
       "      <td>2.52</td>\n",
       "      <td>3.01</td>\n",
       "      <td>1.84</td>\n",
       "      <td>172.99</td>\n",
       "      <td>Oral Solids</td>\n",
       "    </tr>\n",
       "    <tr>\n",
       "      <th>2</th>\n",
       "      <td>Infectious Disease</td>\n",
       "      <td>Moxifloxacin</td>\n",
       "      <td>RX</td>\n",
       "      <td>755</td>\n",
       "      <td>2.78</td>\n",
       "      <td>3.00</td>\n",
       "      <td>2.08</td>\n",
       "      <td>74.99</td>\n",
       "      <td>Oral Liquids</td>\n",
       "    </tr>\n",
       "    <tr>\n",
       "      <th>3</th>\n",
       "      <td>Infectious Disease</td>\n",
       "      <td>Azithromycin</td>\n",
       "      <td>RX</td>\n",
       "      <td>584</td>\n",
       "      <td>3.21</td>\n",
       "      <td>4.01</td>\n",
       "      <td>2.57</td>\n",
       "      <td>32.10</td>\n",
       "      <td>Oral Solids</td>\n",
       "    </tr>\n",
       "    <tr>\n",
       "      <th>11</th>\n",
       "      <td>Infectious Disease</td>\n",
       "      <td>Levofloxacin 2</td>\n",
       "      <td>RX</td>\n",
       "      <td>361</td>\n",
       "      <td>2.44</td>\n",
       "      <td>2.96</td>\n",
       "      <td>1.68</td>\n",
       "      <td>172.99</td>\n",
       "      <td>Oral Solids</td>\n",
       "    </tr>\n",
       "    <tr>\n",
       "      <th>13</th>\n",
       "      <td>Infectious Disease</td>\n",
       "      <td>Amoxicillin</td>\n",
       "      <td>RX</td>\n",
       "      <td>353</td>\n",
       "      <td>3.04</td>\n",
       "      <td>3.37</td>\n",
       "      <td>2.34</td>\n",
       "      <td>12.59</td>\n",
       "      <td>Oral Solids</td>\n",
       "    </tr>\n",
       "    <tr>\n",
       "      <th>...</th>\n",
       "      <td>...</td>\n",
       "      <td>...</td>\n",
       "      <td>...</td>\n",
       "      <td>...</td>\n",
       "      <td>...</td>\n",
       "      <td>...</td>\n",
       "      <td>...</td>\n",
       "      <td>...</td>\n",
       "      <td>...</td>\n",
       "    </tr>\n",
       "    <tr>\n",
       "      <th>2192</th>\n",
       "      <td>Infectious Disease</td>\n",
       "      <td>Fluconazole 3</td>\n",
       "      <td>RX</td>\n",
       "      <td>225</td>\n",
       "      <td>3.32</td>\n",
       "      <td>4.41</td>\n",
       "      <td>2.97</td>\n",
       "      <td>17.99</td>\n",
       "      <td>Oral Solids</td>\n",
       "    </tr>\n",
       "    <tr>\n",
       "      <th>2194</th>\n",
       "      <td>Infectious Disease</td>\n",
       "      <td>Fluconazole 4</td>\n",
       "      <td>RX</td>\n",
       "      <td>168</td>\n",
       "      <td>3.88</td>\n",
       "      <td>4.42</td>\n",
       "      <td>3.47</td>\n",
       "      <td>17.99</td>\n",
       "      <td>Oral Solids</td>\n",
       "    </tr>\n",
       "    <tr>\n",
       "      <th>2196</th>\n",
       "      <td>Infectious Disease</td>\n",
       "      <td>Miconazole Nitrate 2</td>\n",
       "      <td>OTC</td>\n",
       "      <td>123</td>\n",
       "      <td>2.86</td>\n",
       "      <td>3.05</td>\n",
       "      <td>2.53</td>\n",
       "      <td>13.99</td>\n",
       "      <td>Ointments</td>\n",
       "    </tr>\n",
       "    <tr>\n",
       "      <th>2197</th>\n",
       "      <td>Infectious Disease</td>\n",
       "      <td>Tioconazole 2</td>\n",
       "      <td>OTC</td>\n",
       "      <td>97</td>\n",
       "      <td>1.84</td>\n",
       "      <td>3.28</td>\n",
       "      <td>1.54</td>\n",
       "      <td>22.99</td>\n",
       "      <td>Others</td>\n",
       "    </tr>\n",
       "    <tr>\n",
       "      <th>2198</th>\n",
       "      <td>Infectious Disease</td>\n",
       "      <td>Tioconazole 3</td>\n",
       "      <td>OTC</td>\n",
       "      <td>61</td>\n",
       "      <td>1.79</td>\n",
       "      <td>3.87</td>\n",
       "      <td>1.54</td>\n",
       "      <td>22.99</td>\n",
       "      <td>Others</td>\n",
       "    </tr>\n",
       "  </tbody>\n",
       "</table>\n",
       "<p>303 rows × 9 columns</p>\n",
       "</div>"
      ],
      "text/plain": [
       "               Condition                  Drug Type  Reviews  Effective  \\\n",
       "0     Infectious Disease          Levofloxacin   RX      994       2.52   \n",
       "2     Infectious Disease          Moxifloxacin   RX      755       2.78   \n",
       "3     Infectious Disease          Azithromycin   RX      584       3.21   \n",
       "11    Infectious Disease        Levofloxacin 2   RX      361       2.44   \n",
       "13    Infectious Disease           Amoxicillin   RX      353       3.04   \n",
       "...                  ...                   ...  ...      ...        ...   \n",
       "2192  Infectious Disease         Fluconazole 3   RX      225       3.32   \n",
       "2194  Infectious Disease         Fluconazole 4   RX      168       3.88   \n",
       "2196  Infectious Disease  Miconazole Nitrate 2  OTC      123       2.86   \n",
       "2197  Infectious Disease         Tioconazole 2  OTC       97       1.84   \n",
       "2198  Infectious Disease         Tioconazole 3  OTC       61       1.79   \n",
       "\n",
       "      Ease of Use  Satisfaction  Average Price          Form  \n",
       "0            3.01          1.84         172.99   Oral Solids  \n",
       "2            3.00          2.08          74.99  Oral Liquids  \n",
       "3            4.01          2.57          32.10   Oral Solids  \n",
       "11           2.96          1.68         172.99   Oral Solids  \n",
       "13           3.37          2.34          12.59   Oral Solids  \n",
       "...           ...           ...            ...           ...  \n",
       "2192         4.41          2.97          17.99   Oral Solids  \n",
       "2194         4.42          3.47          17.99   Oral Solids  \n",
       "2196         3.05          2.53          13.99     Ointments  \n",
       "2197         3.28          1.54          22.99        Others  \n",
       "2198         3.87          1.54          22.99        Others  \n",
       "\n",
       "[303 rows x 9 columns]"
      ]
     },
     "execution_count": 114,
     "metadata": {},
     "output_type": "execute_result"
    }
   ],
   "source": [
    "# Create variable to exclude data with low reviews\n",
    "filteredReviews = dfClean[dfClean['Reviews']>low]\n",
    "filteredReviews"
   ]
  },
  {
   "cell_type": "markdown",
   "metadata": {},
   "source": [
    "A variable named `filteredReviews` is created to represent the dataset that excludes reviews below the lower boundary. However, after removing data points with reviews below the lower boundary (52 reviews), it is observed that only 303 rows remain in the dataset. This limited dataset size may **not be ideal** for analysis as it is significantly reduced."
   ]
  },
  {
   "cell_type": "code",
   "execution_count": 115,
   "metadata": {},
   "outputs": [
    {
     "data": {
      "image/png": "[encoded data removed]",
      "text/plain": [
       "<Figure size 800x500 with 1 Axes>"
      ]
     },
     "metadata": {},
     "output_type": "display_data"
    }
   ],
   "source": [
    "# Set the color palette\n",
    "sns.set_palette('Set2')\n",
    "\n",
    "# Create the boxplot\n",
    "plt.figure(figsize=(8, 5))\n",
    "plt.boxplot(filteredReviews['Reviews'])\n",
    "plt.title('Boxplot of Reviews (Filtered)')\n",
    "plt.ylabel('Reviews Quantity')\n",
    "plt.show()"
   ]
  },
  {
   "cell_type": "markdown",
   "metadata": {},
   "source": [
    "The boxplot provides insight into the review counts of products, specifically focusing on those with at least 52 reviews. The central box covers most of the review counts, showing where the data is mainly concentrated, while the line within represents the median review count. Dots outside the box, known as outliers, highlight products with higher review counts compared to the average. This visualization effectively captures the distribution of review counts without the lower boundary.\n",
    "\n",
    "However, having only 303 data remaining is still not ideal for this analysis. Therefore, an alternative method will be used."
   ]
  },
  {
   "cell_type": "code",
   "execution_count": 116,
   "metadata": {},
   "outputs": [
    {
     "data": {
      "text/html": [
       "<div>\n",
       "<style scoped>\n",
       "    .dataframe tbody tr th:only-of-type {\n",
       "        vertical-align: middle;\n",
       "    }\n",
       "\n",
       "    .dataframe tbody tr th {\n",
       "        vertical-align: top;\n",
       "    }\n",
       "\n",
       "    .dataframe thead th {\n",
       "        text-align: right;\n",
       "    }\n",
       "</style>\n",
       "<table border=\"1\" class=\"dataframe\">\n",
       "  <thead>\n",
       "    <tr style=\"text-align: right;\">\n",
       "      <th></th>\n",
       "      <th>Condition</th>\n",
       "      <th>Drug</th>\n",
       "      <th>Type</th>\n",
       "      <th>Reviews</th>\n",
       "      <th>Effective</th>\n",
       "      <th>Ease of Use</th>\n",
       "      <th>Satisfaction</th>\n",
       "      <th>Average Price</th>\n",
       "      <th>Form</th>\n",
       "    </tr>\n",
       "  </thead>\n",
       "  <tbody>\n",
       "    <tr>\n",
       "      <th>0</th>\n",
       "      <td>Infectious Disease</td>\n",
       "      <td>Levofloxacin</td>\n",
       "      <td>RX</td>\n",
       "      <td>994</td>\n",
       "      <td>2.52</td>\n",
       "      <td>3.01</td>\n",
       "      <td>1.84</td>\n",
       "      <td>172.99</td>\n",
       "      <td>Oral Solids</td>\n",
       "    </tr>\n",
       "    <tr>\n",
       "      <th>2</th>\n",
       "      <td>Infectious Disease</td>\n",
       "      <td>Moxifloxacin</td>\n",
       "      <td>RX</td>\n",
       "      <td>755</td>\n",
       "      <td>2.78</td>\n",
       "      <td>3.00</td>\n",
       "      <td>2.08</td>\n",
       "      <td>74.99</td>\n",
       "      <td>Oral Liquids</td>\n",
       "    </tr>\n",
       "    <tr>\n",
       "      <th>3</th>\n",
       "      <td>Infectious Disease</td>\n",
       "      <td>Azithromycin</td>\n",
       "      <td>RX</td>\n",
       "      <td>584</td>\n",
       "      <td>3.21</td>\n",
       "      <td>4.01</td>\n",
       "      <td>2.57</td>\n",
       "      <td>32.10</td>\n",
       "      <td>Oral Solids</td>\n",
       "    </tr>\n",
       "    <tr>\n",
       "      <th>11</th>\n",
       "      <td>Infectious Disease</td>\n",
       "      <td>Levofloxacin 2</td>\n",
       "      <td>RX</td>\n",
       "      <td>361</td>\n",
       "      <td>2.44</td>\n",
       "      <td>2.96</td>\n",
       "      <td>1.68</td>\n",
       "      <td>172.99</td>\n",
       "      <td>Oral Solids</td>\n",
       "    </tr>\n",
       "    <tr>\n",
       "      <th>13</th>\n",
       "      <td>Infectious Disease</td>\n",
       "      <td>Amoxicillin</td>\n",
       "      <td>RX</td>\n",
       "      <td>353</td>\n",
       "      <td>3.04</td>\n",
       "      <td>3.37</td>\n",
       "      <td>2.34</td>\n",
       "      <td>12.59</td>\n",
       "      <td>Oral Solids</td>\n",
       "    </tr>\n",
       "    <tr>\n",
       "      <th>...</th>\n",
       "      <td>...</td>\n",
       "      <td>...</td>\n",
       "      <td>...</td>\n",
       "      <td>...</td>\n",
       "      <td>...</td>\n",
       "      <td>...</td>\n",
       "      <td>...</td>\n",
       "      <td>...</td>\n",
       "      <td>...</td>\n",
       "    </tr>\n",
       "    <tr>\n",
       "      <th>2209</th>\n",
       "      <td>Infectious Disease</td>\n",
       "      <td>Miconazole-Skin Clnsr17</td>\n",
       "      <td>OTC</td>\n",
       "      <td>4</td>\n",
       "      <td>3.00</td>\n",
       "      <td>4.75</td>\n",
       "      <td>3.00</td>\n",
       "      <td>13.99</td>\n",
       "      <td>Ointments</td>\n",
       "    </tr>\n",
       "    <tr>\n",
       "      <th>2211</th>\n",
       "      <td>Infectious Disease</td>\n",
       "      <td>Miconazole Nitrate 8</td>\n",
       "      <td>OTC</td>\n",
       "      <td>3</td>\n",
       "      <td>3.33</td>\n",
       "      <td>5.00</td>\n",
       "      <td>2.00</td>\n",
       "      <td>13.99</td>\n",
       "      <td>Ointments</td>\n",
       "    </tr>\n",
       "    <tr>\n",
       "      <th>2212</th>\n",
       "      <td>Infectious Disease</td>\n",
       "      <td>Clotrimazole 3</td>\n",
       "      <td>OTC</td>\n",
       "      <td>2</td>\n",
       "      <td>4.50</td>\n",
       "      <td>5.00</td>\n",
       "      <td>4.50</td>\n",
       "      <td>25.63</td>\n",
       "      <td>Ointments</td>\n",
       "    </tr>\n",
       "    <tr>\n",
       "      <th>2213</th>\n",
       "      <td>Infectious Disease</td>\n",
       "      <td>Clotrimazole 4</td>\n",
       "      <td>OTC</td>\n",
       "      <td>2</td>\n",
       "      <td>4.50</td>\n",
       "      <td>4.50</td>\n",
       "      <td>4.50</td>\n",
       "      <td>25.63</td>\n",
       "      <td>Ointments</td>\n",
       "    </tr>\n",
       "    <tr>\n",
       "      <th>2214</th>\n",
       "      <td>Infectious Disease</td>\n",
       "      <td>Clotrimazole 5</td>\n",
       "      <td>OTC</td>\n",
       "      <td>2</td>\n",
       "      <td>5.00</td>\n",
       "      <td>5.00</td>\n",
       "      <td>5.00</td>\n",
       "      <td>25.63</td>\n",
       "      <td>Ointments</td>\n",
       "    </tr>\n",
       "  </tbody>\n",
       "</table>\n",
       "<p>1171 rows × 9 columns</p>\n",
       "</div>"
      ],
      "text/plain": [
       "               Condition                     Drug Type  Reviews  Effective  \\\n",
       "0     Infectious Disease             Levofloxacin   RX      994       2.52   \n",
       "2     Infectious Disease             Moxifloxacin   RX      755       2.78   \n",
       "3     Infectious Disease             Azithromycin   RX      584       3.21   \n",
       "11    Infectious Disease           Levofloxacin 2   RX      361       2.44   \n",
       "13    Infectious Disease              Amoxicillin   RX      353       3.04   \n",
       "...                  ...                      ...  ...      ...        ...   \n",
       "2209  Infectious Disease  Miconazole-Skin Clnsr17  OTC        4       3.00   \n",
       "2211  Infectious Disease     Miconazole Nitrate 8  OTC        3       3.33   \n",
       "2212  Infectious Disease           Clotrimazole 3  OTC        2       4.50   \n",
       "2213  Infectious Disease           Clotrimazole 4  OTC        2       4.50   \n",
       "2214  Infectious Disease           Clotrimazole 5  OTC        2       5.00   \n",
       "\n",
       "      Ease of Use  Satisfaction  Average Price          Form  \n",
       "0            3.01          1.84         172.99   Oral Solids  \n",
       "2            3.00          2.08          74.99  Oral Liquids  \n",
       "3            4.01          2.57          32.10   Oral Solids  \n",
       "11           2.96          1.68         172.99   Oral Solids  \n",
       "13           3.37          2.34          12.59   Oral Solids  \n",
       "...           ...           ...            ...           ...  \n",
       "2209         4.75          3.00          13.99     Ointments  \n",
       "2211         5.00          2.00          13.99     Ointments  \n",
       "2212         5.00          4.50          25.63     Ointments  \n",
       "2213         4.50          4.50          25.63     Ointments  \n",
       "2214         5.00          5.00          25.63     Ointments  \n",
       "\n",
       "[1171 rows x 9 columns]"
      ]
     },
     "execution_count": 116,
     "metadata": {},
     "output_type": "execute_result"
    }
   ],
   "source": [
    "# Method 2 : Filtering\n",
    "\n",
    "# Remove rows with 1 review\n",
    "dfClean.loc[(dfClean['Reviews']>1)]"
   ]
  },
  {
   "cell_type": "markdown",
   "metadata": {},
   "source": [
    "To ensure the dataset size remains ideal, the reviews considered insignificant are those with just 1 review, as they may not be representative. The code excludes rows with only 1 review, resulting in a total of 1171 rows, which is still considered acceptable for analysis.\n",
    "\n",
    "In conclusion, the further analysis will use the second method, which involves filtering data based on review counts instead of relying on confidence intervals."
   ]
  },
  {
   "cell_type": "markdown",
   "metadata": {},
   "source": [
    "##### **Most Frequent Disease**"
   ]
  },
  {
   "cell_type": "markdown",
   "metadata": {},
   "source": [
    "This analysis begins with pinpointing the disease that is most commonly found. This initial step is crucial as it sets the direction for the entire analysis by concentrating on a particular health issue of interest."
   ]
  },
  {
   "cell_type": "code",
   "execution_count": 117,
   "metadata": {},
   "outputs": [
    {
     "data": {
      "image/png": "[encoded data removed]",
      "text/plain": [
       "<Figure size 800x900 with 1 Axes>"
      ]
     },
     "metadata": {},
     "output_type": "display_data"
    }
   ],
   "source": [
    "# Create variable to select the column\n",
    "condition = dfClean['Condition']\n",
    "\n",
    "# Count the frequency of each disease\n",
    "diseaseCounts = condition.value_counts()\n",
    "\n",
    "# Plotting the pie chart\n",
    "plt.figure(figsize=(8, 9))\n",
    "plt.pie(diseaseCounts, labels=diseaseCounts.index, autopct='%1.2f%%', startangle=140)\n",
    "plt.title('Most Frequent Diseases')\n",
    "plt.axis('equal')  # Equal aspect ratio ensures that pie is drawn as a circle.\n",
    "plt.show()"
   ]
  },
  {
   "cell_type": "markdown",
   "metadata": {},
   "source": [
    "Filtering is used to gain this information. From the pie chart above, Pain and inflammation were observed as the most common condition, accounting for **30.44%** of cases. Chronic diseases followed closely at **19.79%**, while infectious diseases claimed the third position with a prevalence of **16.37%**. Skin conditions and gastrointestinal issues exhibited comparable frequencies, each at **11.11%** and **10.85%** respectively. Sleep disorders were notably less common, representing only **1.31%** of cases. Other conditions collectively made up **10.12%** of the dataset.\n",
    "\n",
    "Due to the substantial prevalence of **pain and inflammation**, the next analysis will focus primarily on this condition."
   ]
  },
  {
   "cell_type": "markdown",
   "metadata": {},
   "source": [
    "##### **Top 5 Effective Drugs**"
   ]
  },
  {
   "cell_type": "markdown",
   "metadata": {},
   "source": [
    "Previously, it was established that pain and inflammation are the most frequent diseases. The next step is to identify the most effective drug for treating this condition using filtering. "
   ]
  },
  {
   "cell_type": "code",
   "execution_count": 118,
   "metadata": {},
   "outputs": [
    {
     "data": {
      "text/html": [
       "<div>\n",
       "<style scoped>\n",
       "    .dataframe tbody tr th:only-of-type {\n",
       "        vertical-align: middle;\n",
       "    }\n",
       "\n",
       "    .dataframe tbody tr th {\n",
       "        vertical-align: top;\n",
       "    }\n",
       "\n",
       "    .dataframe thead th {\n",
       "        text-align: right;\n",
       "    }\n",
       "</style>\n",
       "<table border=\"1\" class=\"dataframe\">\n",
       "  <thead>\n",
       "    <tr style=\"text-align: right;\">\n",
       "      <th></th>\n",
       "      <th>Drug</th>\n",
       "      <th>Effective</th>\n",
       "    </tr>\n",
       "  </thead>\n",
       "  <tbody>\n",
       "    <tr>\n",
       "      <th>2108</th>\n",
       "      <td>Chlorpheniram-DM-Acetaminophen 7</td>\n",
       "      <td>5.0</td>\n",
       "    </tr>\n",
       "    <tr>\n",
       "      <th>1576</th>\n",
       "      <td>Lidocaine-Hydrocortisone-Aloe</td>\n",
       "      <td>5.0</td>\n",
       "    </tr>\n",
       "    <tr>\n",
       "      <th>1038</th>\n",
       "      <td>Doxylamine-DM-Acetaminophen 6</td>\n",
       "      <td>5.0</td>\n",
       "    </tr>\n",
       "    <tr>\n",
       "      <th>1039</th>\n",
       "      <td>Acetaminophen 65</td>\n",
       "      <td>5.0</td>\n",
       "    </tr>\n",
       "    <tr>\n",
       "      <th>1043</th>\n",
       "      <td>Doxylamine-DM-Acetaminophen 7</td>\n",
       "      <td>5.0</td>\n",
       "    </tr>\n",
       "  </tbody>\n",
       "</table>\n",
       "</div>"
      ],
      "text/plain": [
       "                                  Drug  Effective\n",
       "2108  Chlorpheniram-DM-Acetaminophen 7        5.0\n",
       "1576     Lidocaine-Hydrocortisone-Aloe        5.0\n",
       "1038     Doxylamine-DM-Acetaminophen 6        5.0\n",
       "1039                  Acetaminophen 65        5.0\n",
       "1043     Doxylamine-DM-Acetaminophen 7        5.0"
      ]
     },
     "execution_count": 118,
     "metadata": {},
     "output_type": "execute_result"
    }
   ],
   "source": [
    "# Define the most frequent disease variable\n",
    "disease = dfClean[dfClean['Condition'] == 'Pain and Inflammation']\n",
    "\n",
    "# Sort the DataFrame by 'Effective' in descending order\n",
    "sortedDrug = disease.sort_values(by='Effective', ascending=False)\n",
    "\n",
    "# Select the top 5 effective drugs\n",
    "topEffectiveDrugs = sortedDrug.head(5)\n",
    "\n",
    "# Select the needed column\n",
    "effective = topEffectiveDrugs[['Drug', 'Effective']]\n",
    "\n",
    "# Show result\n",
    "effective"
   ]
  },
  {
   "cell_type": "code",
   "execution_count": 119,
   "metadata": {},
   "outputs": [
    {
     "data": {
      "image/png": "[encoded data removed]",
      "text/plain": [
       "<Figure size 640x480 with 1 Axes>"
      ]
     },
     "metadata": {},
     "output_type": "display_data"
    }
   ],
   "source": [
    "# Select the colors\n",
    "colors = ['#0a417a', '#58508d', '#bc5090', '#ff6361', '#ffa600']\n",
    "\n",
    "# Plot the graph\n",
    "sns.barplot(data=topEffectiveDrugs, x='Drug', y='Effective', orient='v', hue='Drug', palette=colors, legend=False)\n",
    "plt.xticks(ticks=range(len(topEffectiveDrugs['Drug'])), labels=topEffectiveDrugs['Drug'], rotation=90)\n",
    "plt.show()"
   ]
  },
  {
   "cell_type": "markdown",
   "metadata": {},
   "source": [
    "The code above reveals the top 5 effective drugs: Chlorpheniram-DM-Acetaminophen 7, Lidocaine-Hydrocortisone-Aloe, Doxylamine-DM-Acetaminophen 6, Acetaminophen 65, and Doxylamine-DM-Acetaminophen 7. The barchart shows the visualization of the findings. Remarkably, all these drugs have an effectiveness rating of 5 out of 5, indicating their high efficacy in treating pain and inflammation."
   ]
  },
  {
   "cell_type": "markdown",
   "metadata": {},
   "source": [
    "##### **Average Cost of the Top Drugs**"
   ]
  },
  {
   "cell_type": "markdown",
   "metadata": {},
   "source": [
    "After gathering insights on the top effective drugs, the next step is to closely examine their price information. This involves comparing the costs of the top 5 drugs to identify which one has the lowest price. This analysis is very important for finding the drug that not only works well but also offers good value for money, making it a cost-effective choice for treatment."
   ]
  },
  {
   "cell_type": "code",
   "execution_count": 120,
   "metadata": {},
   "outputs": [
    {
     "data": {
      "text/html": [
       "<div>\n",
       "<style scoped>\n",
       "    .dataframe tbody tr th:only-of-type {\n",
       "        vertical-align: middle;\n",
       "    }\n",
       "\n",
       "    .dataframe tbody tr th {\n",
       "        vertical-align: top;\n",
       "    }\n",
       "\n",
       "    .dataframe thead th {\n",
       "        text-align: right;\n",
       "    }\n",
       "</style>\n",
       "<table border=\"1\" class=\"dataframe\">\n",
       "  <thead>\n",
       "    <tr style=\"text-align: right;\">\n",
       "      <th></th>\n",
       "      <th>Drug</th>\n",
       "      <th>Average Price</th>\n",
       "    </tr>\n",
       "  </thead>\n",
       "  <tbody>\n",
       "    <tr>\n",
       "      <th>2108</th>\n",
       "      <td>Chlorpheniram-DM-Acetaminophen 7</td>\n",
       "      <td>8.79</td>\n",
       "    </tr>\n",
       "    <tr>\n",
       "      <th>1576</th>\n",
       "      <td>Lidocaine-Hydrocortisone-Aloe</td>\n",
       "      <td>53.99</td>\n",
       "    </tr>\n",
       "    <tr>\n",
       "      <th>1038</th>\n",
       "      <td>Doxylamine-DM-Acetaminophen 6</td>\n",
       "      <td>9.99</td>\n",
       "    </tr>\n",
       "    <tr>\n",
       "      <th>1039</th>\n",
       "      <td>Acetaminophen 65</td>\n",
       "      <td>11.99</td>\n",
       "    </tr>\n",
       "    <tr>\n",
       "      <th>1043</th>\n",
       "      <td>Doxylamine-DM-Acetaminophen 7</td>\n",
       "      <td>6.87</td>\n",
       "    </tr>\n",
       "  </tbody>\n",
       "</table>\n",
       "</div>"
      ],
      "text/plain": [
       "                                  Drug  Average Price\n",
       "2108  Chlorpheniram-DM-Acetaminophen 7           8.79\n",
       "1576     Lidocaine-Hydrocortisone-Aloe          53.99\n",
       "1038     Doxylamine-DM-Acetaminophen 6           9.99\n",
       "1039                  Acetaminophen 65          11.99\n",
       "1043     Doxylamine-DM-Acetaminophen 7           6.87"
      ]
     },
     "execution_count": 120,
     "metadata": {},
     "output_type": "execute_result"
    }
   ],
   "source": [
    "# Define the average cost variable\n",
    "avgCost = topEffectiveDrugs[['Drug', 'Average Price']]\n",
    "\n",
    "# Show result\n",
    "avgCost"
   ]
  },
  {
   "cell_type": "code",
   "execution_count": 121,
   "metadata": {},
   "outputs": [
    {
     "data": {
      "image/png": "[encoded data removed]",
      "text/plain": [
       "<Figure size 640x480 with 1 Axes>"
      ]
     },
     "metadata": {},
     "output_type": "display_data"
    }
   ],
   "source": [
    "# Select the colors\n",
    "colors = ['#0a417a', '#58508d', '#bc5090', '#ff6361', '#ffa600']\n",
    "\n",
    "# Plot the graph\n",
    "sns.barplot(data=avgCost, x='Drug', y='Average Price', orient='v', hue='Drug', palette=colors)\n",
    "plt.xticks(ticks=range(len(avgCost['Drug'])), labels=avgCost['Drug'], rotation=90)\n",
    "plt.show()"
   ]
  },
  {
   "cell_type": "markdown",
   "metadata": {},
   "source": [
    "The prices of the top 5 effective drugs have been provided with filtering method. A bar chart is utilized to visually represent the prices of these drugs. The most expensive drug, Lidocaine-Hydrocortisone-Aloe, is priced at **$53.99**, while the least expensive drug, Doxylamine-DM-Acetaminophen 7, costs **$6.87**."
   ]
  },
  {
   "cell_type": "markdown",
   "metadata": {},
   "source": [
    "##### **Drug Form vs Ease of Use**"
   ]
  },
  {
   "cell_type": "markdown",
   "metadata": {},
   "source": [
    "After determining the prices of the top 5 drugs, the next phase involves examining how do drugs, across their various forms (tablets, capsules, liquids), are rated in terms of ease of use. This step aims to understand the relationship between the cost-effectiveness of a medication and the user experience associated with its form."
   ]
  },
  {
   "cell_type": "code",
   "execution_count": 122,
   "metadata": {},
   "outputs": [
    {
     "data": {
      "text/html": [
       "<div>\n",
       "<style scoped>\n",
       "    .dataframe tbody tr th:only-of-type {\n",
       "        vertical-align: middle;\n",
       "    }\n",
       "\n",
       "    .dataframe tbody tr th {\n",
       "        vertical-align: top;\n",
       "    }\n",
       "\n",
       "    .dataframe thead th {\n",
       "        text-align: right;\n",
       "    }\n",
       "</style>\n",
       "<table border=\"1\" class=\"dataframe\">\n",
       "  <thead>\n",
       "    <tr style=\"text-align: right;\">\n",
       "      <th></th>\n",
       "      <th>Form</th>\n",
       "      <th>Ease of Use</th>\n",
       "    </tr>\n",
       "  </thead>\n",
       "  <tbody>\n",
       "    <tr>\n",
       "      <th>0</th>\n",
       "      <td>Injectables</td>\n",
       "      <td>3.388214</td>\n",
       "    </tr>\n",
       "    <tr>\n",
       "      <th>1</th>\n",
       "      <td>Ointments</td>\n",
       "      <td>4.034106</td>\n",
       "    </tr>\n",
       "    <tr>\n",
       "      <th>2</th>\n",
       "      <td>Oral Liquids</td>\n",
       "      <td>3.842927</td>\n",
       "    </tr>\n",
       "    <tr>\n",
       "      <th>3</th>\n",
       "      <td>Oral Solids</td>\n",
       "      <td>4.016273</td>\n",
       "    </tr>\n",
       "    <tr>\n",
       "      <th>4</th>\n",
       "      <td>Others</td>\n",
       "      <td>3.909024</td>\n",
       "    </tr>\n",
       "  </tbody>\n",
       "</table>\n",
       "</div>"
      ],
      "text/plain": [
       "           Form  Ease of Use\n",
       "0   Injectables     3.388214\n",
       "1     Ointments     4.034106\n",
       "2  Oral Liquids     3.842927\n",
       "3   Oral Solids     4.016273\n",
       "4        Others     3.909024"
      ]
     },
     "execution_count": 122,
     "metadata": {},
     "output_type": "execute_result"
    }
   ],
   "source": [
    "# Calculate the mean ease of use rating\n",
    "avgEase = dfClean.groupby('Form')['Ease of Use'].mean().reset_index()\n",
    "\n",
    "# Show result\n",
    "avgEase"
   ]
  },
  {
   "cell_type": "code",
   "execution_count": 123,
   "metadata": {},
   "outputs": [
    {
     "data": {
      "image/png": "[encoded data removed]",
      "text/plain": [
       "<Figure size 600x400 with 1 Axes>"
      ]
     },
     "metadata": {},
     "output_type": "display_data"
    }
   ],
   "source": [
    "# Plot the lollipop chart\n",
    "plt.figure(figsize=(6, 4))\n",
    "plt.stem(avgEase['Form'], avgEase['Ease of Use'], markerfmt='o', basefmt=' ', linefmt='C0-', bottom=0.5)\n",
    "plt.xticks(rotation=45)\n",
    "plt.xlabel('Drug Form')\n",
    "plt.ylabel('Mean Ease of Use Rating')\n",
    "plt.title('Mean Ease of Use Rating vs Drug Form')\n",
    "plt.grid(axis='y')\n",
    "plt.show()"
   ]
  },
  {
   "cell_type": "markdown",
   "metadata": {},
   "source": [
    "Filtering is also used in this analysis. The lollipop chart displays the mean ease of use ratings among five categories of drug forms. Notably, **ointments**, designed for external use, have the highest ease of use rating at around 4. Meanwhile, oral solids and oral liquids display similar ratings which is around 3.9. The least preferred drug form is injectables, which have a rating of around 3.4. Conversely, the \"Others\" category have the ratings of 3.9, indicating that these forms are also considered user-friendly."
   ]
  },
  {
   "cell_type": "markdown",
   "metadata": {},
   "source": [
    "##### **Correlation between Ease of Use vs Satisfaction**"
   ]
  },
  {
   "cell_type": "markdown",
   "metadata": {},
   "source": [
    "After analyzing the distribution of drug forms by their ease of use ratings, the focus shifts to understanding the correlation between ease of use and satisfaction, exploring whether drugs rated as easier to use also result in higher satisfaction levels among customers."
   ]
  },
  {
   "cell_type": "code",
   "execution_count": 124,
   "metadata": {},
   "outputs": [
    {
     "name": "stdout",
     "output_type": "stream",
     "text": [
      "Skewness of Ease of Use: -1.33\n",
      "Skewness of Satisfaction: -0.19\n"
     ]
    }
   ],
   "source": [
    "# Calculate skew of the distribution\n",
    "skewEase = dfClean['Ease of Use'].skew()\n",
    "skewSatisfaction = dfClean['Satisfaction'].skew()\n",
    "\n",
    "# Show result\n",
    "print(f\"Skewness of Ease of Use: {skewEase:.2f}\")\n",
    "print(f\"Skewness of Satisfaction: {skewSatisfaction:.2f}\")"
   ]
  },
  {
   "cell_type": "markdown",
   "metadata": {},
   "source": [
    "Before analyzing the correlation between ease of use and satisfaction, it is important to check whether the data for both variables are normally distributed. This is done by looking at skewness, which measures how symmetrical the data is. `Ease of Use` has a skewness of -1.33, showing it's highly skewed to the left, while `Satisfaction` has a skewness of -0.19, indicating it's approximately symmetric. This step helps decide the right statistical methods for further analysis, as normal distribution is a common assumption for many of them."
   ]
  },
  {
   "cell_type": "code",
   "execution_count": 125,
   "metadata": {},
   "outputs": [
    {
     "name": "stdout",
     "output_type": "stream",
     "text": [
      "Upper Boundary 1: 8.75\n",
      "Lower Boundary 1: -0.28\n",
      "Upper Boundary 2: 6.89\n",
      "Lower Boundary 2: -0.49\n"
     ]
    }
   ],
   "source": [
    "# Cleans outlier from Ease of Use column\n",
    "q1 = dfClean['Ease of Use'].quantile(0.25)\n",
    "q3 = dfClean['Ease of Use'].quantile(0.75)\n",
    "iqr = q3 - q1\n",
    "\n",
    "up_bound = q3 + 3 * iqr\n",
    "low_bound = q1 - 3 * iqr\n",
    "\n",
    "print(f'Upper Boundary 1: {up_bound:.2f}')\n",
    "print(f'Lower Boundary 1: {low_bound:.2f}')\n",
    "\n",
    "# Define outlier 1\n",
    "no_outlier = dfClean[(dfClean['Ease of Use'] >= low_bound) & (dfClean['Ease of Use'] <= up_bound)]\n",
    "\n",
    "# Cleans outlier from Satisfaction column\n",
    "avg = no_outlier['Satisfaction'].mean()\n",
    "std = no_outlier['Satisfaction'].std()\n",
    "\n",
    "up_bound = avg + 3*std\n",
    "low_bound = avg - 3*std\n",
    "\n",
    "print(f'Upper Boundary 2: {up_bound:.2f}')\n",
    "print(f'Lower Boundary 2: {low_bound:.2f}')\n",
    "\n",
    "# Define outlier 2\n",
    "no_outlier2 = no_outlier[(no_outlier['Satisfaction'] >= low_bound) & (no_outlier['Satisfaction'] <= up_bound)]"
   ]
  },
  {
   "cell_type": "markdown",
   "metadata": {},
   "source": [
    "The code above removes outliers from both the `Ease of Use` and `Satisfaction` columns using different techniques tailored to each column's distribution. Specifically, Tukey's Rule is applied to `Ease of Use` due to its non-normal distribution, while z-score calculation is used for `Satisfaction` because it follows a normal distribution. As a result, 'no_outlier1' contains data without outliers from the column `Ease of Use`, while 'no_outlier2' has data without outliers from the `Satisfaction` column. This ensures that outliers are appropriately handled in both variables before conducting further analysis or computations."
   ]
  },
  {
   "cell_type": "markdown",
   "metadata": {},
   "source": [
    "Given that `Ease of Use` is highly skewed to the left and `Satisfaction` is approximately symmetric, implying that the data may not be perfectly normal, Spearman's rank correlation is the chosen method for calculating the correlation. This approach is preferred because it is suitable for situations where at least one of the variables does not follow a normal distribution. Spearman's method evaluates the monotonic relationship between two variables, making it well-suited to handle the non-normal distribution observed in the data for `Ease of Use`."
   ]
  },
  {
   "cell_type": "code",
   "execution_count": 126,
   "metadata": {},
   "outputs": [
    {
     "name": "stdout",
     "output_type": "stream",
     "text": [
      "Correlation between Ease of Use and Satisfaction:\n",
      "rho-correlation: 0.58\n",
      "p-value: 1.6245739780411892e-139\n"
     ]
    }
   ],
   "source": [
    "# Correlation using Spearman techniques\n",
    "corr_rho, pval_s = stats.spearmanr(no_outlier2['Ease of Use'], no_outlier2['Satisfaction'])\n",
    "\n",
    "# Show results\n",
    "print(\"Correlation between Ease of Use and Satisfaction:\")\n",
    "print(f\"rho-correlation: {corr_rho:.2f}\\np-value: {pval_s}\")"
   ]
  },
  {
   "cell_type": "markdown",
   "metadata": {},
   "source": [
    "<center>\n",
    "\n",
    "![rho](./rho.png)\n",
    "\n",
    "\n",
    "![p-value](./pval.png)\n",
    "\n",
    "\n",
    "[Source](https://geographyfieldwork.com/SpearmansRankCalculator.html)"
   ]
  },
  {
   "cell_type": "markdown",
   "metadata": {},
   "source": [
    "The correlation between `Satisfaction` and `Ease of Use` is as follows:\n",
    "\n",
    "- Spearman's Rank Correlation Coefficient (rho): 0.58\n",
    "- p-value: 1.6245739780408197e-139\n",
    "\n",
    "Spearman's correlation coefficient (rho) measures the strength and direction of the correlation between two ranked variables. A correlation coefficient of 0.58 indicates a **moderate positive** correlation between `Satisfaction` and `Ease of Use` as seen on the figure above. This implies that as `Satisfaction` levels increase, `Ease of Use` also tends to increase, and vice versa.\n",
    "\n",
    "Importantly, the correlation is **statistically significant**, as evidenced by the very low p-value of 1.6245739780408197e-139. This small p-value suggests that the observed correlation is very strong and not due to chance."
   ]
  },
  {
   "cell_type": "code",
   "execution_count": 127,
   "metadata": {},
   "outputs": [
    {
     "data": {
      "text/plain": [
       "<seaborn.axisgrid.FacetGrid at 0x2750b638370>"
      ]
     },
     "execution_count": 127,
     "metadata": {},
     "output_type": "execute_result"
    },
    {
     "data": {
      "image/png": "[encoded data removed]",
      "text/plain": [
       "<Figure size 500x500 with 1 Axes>"
      ]
     },
     "metadata": {},
     "output_type": "display_data"
    }
   ],
   "source": [
    "# Plot correlation between ease of use vs satisfaction\n",
    "sns.lmplot(data=no_outlier2,x='Ease of Use', y='Satisfaction')"
   ]
  },
  {
   "cell_type": "markdown",
   "metadata": {},
   "source": [
    "To clearly visualize the correlation between the two variables, Seaborn is used to create a scatter plot. The x-axis represents the ease of use, while the y-axis represents satisfaction. Each point on the plot corresponds to a pair of observations for `Ease of Use` and `Satisfaction`. The scatter plot shows a clear positive trend, indicating that as the `Ease of Use` rating increases, the `Satisfaction` level also tends to increase. This aligns with the Spearman's rank correlation coefficient (rho) and the low p-value, indicating a positive correlation between the two variables."
   ]
  },
  {
   "cell_type": "markdown",
   "metadata": {},
   "source": [
    "##### **Satisfication of Prescription (RX) vs Over-the-Counter (OTC)**"
   ]
  },
  {
   "cell_type": "markdown",
   "metadata": {},
   "source": [
    "Finally, the analysis aims to test which type of medication, whether prescription (RX) or over-the-counter (OTC), gains higher satisfaction from customers. Hypothesis testing is used for this purpose. The null hypothesis (H0) states that there is no significant difference in mean satisfaction between RX and OTC medications, whereas the alternative hypothesis (H1) suggests that there exists a difference in mean satisfaction between RX and OTC medications.\n",
    "\n",
    "H0 : The mean satisfaction between RX == OTC\n",
    "\n",
    "H1 : The mean satisfaction between RX != OTC"
   ]
  },
  {
   "cell_type": "code",
   "execution_count": 128,
   "metadata": {},
   "outputs": [
    {
     "name": "stdout",
     "output_type": "stream",
     "text": [
      "Average satisfaction for RX drugs: 3.0734936211972523\n",
      "Average satisfaction for OTC drugs: 3.484059829059829\n",
      "\n",
      "T-Statistic: -6.024337572932321\n",
      "P-value: 2.137427593595635e-09\n",
      "\n",
      "The difference in satisfaction levels between RX and OTC drugs is statistically significant.\n",
      "OTC drugs have higher satisfaction levels.\n"
     ]
    }
   ],
   "source": [
    "# Filter the DataFrame for RX and OTC drugs\n",
    "rx_satisfaction = dfClean[dfClean['Type'] == 'RX']['Satisfaction'].mean()\n",
    "otc_satisfaction = dfClean[dfClean['Type'] == 'OTC']['Satisfaction'].mean()\n",
    "\n",
    "# Print the average satisfaction levels\n",
    "print(f'Average satisfaction for RX drugs: {rx_satisfaction}')\n",
    "print(f'Average satisfaction for OTC drugs: {otc_satisfaction}\\n')\n",
    "\n",
    "# Filter the DataFrame for RX and OTC drugs\n",
    "rx = dfClean[dfClean['Type'] == 'RX']['Satisfaction']\n",
    "otc = dfClean[dfClean['Type'] == 'OTC']['Satisfaction']\n",
    "\n",
    "# Conduct t-test\n",
    "t_stat, p_val = stats.ttest_ind(rx, otc)\n",
    "\n",
    "# Show results\n",
    "print('T-Statistic:', t_stat)\n",
    "print('P-value:', p_val)\n",
    "\n",
    "# Interpret the results\n",
    "if p_val < 0.05:\n",
    "    print('\\nThe difference in satisfaction levels between RX and OTC drugs is statistically significant.')\n",
    "    if t_stat > 0:\n",
    "        print('RX drugs have higher satisfaction levels.')\n",
    "    else:\n",
    "        print('OTC drugs have higher satisfaction levels.')\n",
    "else:\n",
    "    print('There is no statistically significant difference in satisfaction levels between RX and OTC drugs.')"
   ]
  },
  {
   "cell_type": "markdown",
   "metadata": {},
   "source": [
    "The average satisfaction for RX drugs was 3.07, whereas the average satisfaction for OTC drugs was notably higher at 3.48. This indicates that, on average, customers reported higher satisfaction levels with OTC drugs compared to RX drugs.\n",
    "\n",
    "The calculated t-statistic of -6.02 with a p-value of 2.14e-09 suggests a highly statistically significant difference in satisfaction levels between RX and OTC drugs. The negative t-statistic indicates that the mean satisfaction for RX drugs was significantly lower than that for OTC drugs.\n",
    "\n",
    "Therefore, based on the analysis, it can be concluded that OTC drugs are associated with higher satisfaction levels among customers compared to RX drugs, and this difference is statistically significant. This may due to the OTC have the same effectiveness as the RX with much cheaper price."
   ]
  },
  {
   "cell_type": "code",
   "execution_count": 129,
   "metadata": {},
   "outputs": [
    {
     "data": {
      "image/png": "[encoded data removed]",
      "text/plain": [
       "<Figure size 600x400 with 1 Axes>"
      ]
     },
     "metadata": {},
     "output_type": "display_data"
    }
   ],
   "source": [
    "# Set the colors\n",
    "colors = ['#0a417a', '#58508d']\n",
    "\n",
    "# Define variables\n",
    "labels = ['RX', 'OTC']\n",
    "means = [rx_satisfaction, otc_satisfaction]\n",
    "\n",
    "# Plot the graph\n",
    "plt.figure(figsize=(6, 4))\n",
    "plt.bar(labels, means, color=colors)\n",
    "plt.xlabel('Drug Type')\n",
    "plt.ylabel('Mean Satisfaction Levels')\n",
    "plt.title('Average Satisfaction Levels: RX vs OTC')\n",
    "plt.show()"
   ]
  },
  {
   "cell_type": "markdown",
   "metadata": {},
   "source": [
    "The bar chart illustrates the mean satisfaction levels for RX and OTC drugs, with RX averaging around 3.1 and OTC close to 3.5. Based on this data, it can be concluded that customers generally prefer OTC drugs over RX drugs in terms of satisfaction."
   ]
  },
  {
   "cell_type": "markdown",
   "metadata": {},
   "source": [
    "##### **Top 5 Drugs Performance**"
   ]
  },
  {
   "cell_type": "code",
   "execution_count": 130,
   "metadata": {},
   "outputs": [
    {
     "data": {
      "image/png": "[encoded data removed]",
      "text/plain": [
       "<Figure size 1500x500 with 1 Axes>"
      ]
     },
     "metadata": {},
     "output_type": "display_data"
    }
   ],
   "source": [
    "from math import pi\n",
    "from matplotlib.gridspec import GridSpec\n",
    "\n",
    "# Select column\n",
    "data = topEffectiveDrugs[['Drug', 'Effective','Ease of Use','Satisfaction']]\n",
    "\n",
    "# Create function to plot chart\n",
    "def create_radar_chart(df):\n",
    "\n",
    "    categories=['Effective','Ease of Use','Satisfaction']\n",
    "    N = len(categories)\n",
    "\n",
    "    angles = [n / float(N) * 2 * pi for n in range(N)]\n",
    "    angles += angles[:1]\n",
    "\n",
    "    ax = fig.add_subplot(gs[0, 0], polar=True)\n",
    "\n",
    "    ax.set_theta_offset(pi / 2)\n",
    "    ax.set_theta_direction(-1)\n",
    "\n",
    "    plt.xticks(angles[:-1], categories, size=10)\n",
    "\n",
    "    ax.set_rlabel_position(0)\n",
    "    plt.yticks([1,2,3,4,5], [\"1\",\"2\",\"3\",\"4\",\"5\"], color=\"grey\", size=10)\n",
    "    plt.ylim(0,5)\n",
    "    \n",
    "    for index, row in df.iterrows():\n",
    "        values=df.loc[index].drop(['Drug']).values.flatten().tolist()\n",
    "        values+= values[:1]\n",
    "\n",
    "        ax.plot(angles, values, 'o-', linewidth=1, label = df.loc[index][\"Drug\"])\n",
    "        ax.fill(angles, values, alpha=0.05)\n",
    "    \n",
    "    ax.legend(loc='upper center', bbox_to_anchor=(0.5, -0.10),\n",
    "          fancybox=False, shadow=False, ncol=1, fontsize=10, frameon=False)\n",
    "\n",
    "# Create plots\n",
    "fig = plt.figure(figsize=(15, 5))\n",
    "gs = GridSpec(nrows=1, ncols=2, width_ratios=[1, 1], wspace=0.1)\n",
    "fig.suptitle('Top 5 Drugs Performance', fontsize=12,x=0.31,y=0.98)\n",
    "\n",
    "# Add chart\n",
    "create_radar_chart(data)\n",
    "plt.subplots_adjust(top=0.85)\n"
   ]
  },
  {
   "cell_type": "markdown",
   "metadata": {},
   "source": [
    "After finding that `Ease of Use` and `Satisfaction` are correlated and are important parameters, the next step is to assess the performance of the top 5 drugs. To do this, the code utilizes a Radar chart to evaluate the effectiveness, satisfaction, and ease of use ratings of these drugs. The chart reveals that most of these drugs received a rating of 5, causing them to overlap with each other. This indicates that the top 5 drugs have performed excellently."
   ]
  },
  {
   "cell_type": "markdown",
   "metadata": {},
   "source": [
    "### **Conclusion**"
   ]
  },
  {
   "cell_type": "markdown",
   "metadata": {},
   "source": [
    "After comprehensive analysis, several key conclusions are:\n",
    "- The primary objective is to identify the most cost-efficient pharmaceutical options, striving for a substantial cost reduction of at least 15% within a six-month timeframe.\n",
    "- A minimum of two reviews are necessary for statistical significance in this analysis.\n",
    "- Pain and Inflammation stand out as the most frequently occurring conditions.\n",
    "- The top-performing drugs for treating Pain and Inflammation are Chlorpheniramine-DM-Acetaminophen 7, Lidocaine-Hydrocortisone-Aloe, Doxylamine-DM-Acetaminophen 6, Acetaminophen 65, and Doxylamine-DM-Acetaminophen 7.\n",
    "- Regarding pricing, the highest-priced medication is Lidocaine-Hydrocortisone-Aloe, priced at $53.99, whereas the most economical option, Doxylamine-DM-Acetaminophen 7, is priced at $6.87.\n",
    "- Ointment form gains the highest ease of use rating among drug forms.\n",
    "- A positive correlation exists between ease of use ratings and satisfaction ratings.\n",
    "- There is a significant difference in satisfaction levels between prescription (RX) and over-the-counter (OTC) drugs, with OTC options have higher satisfaction ratings.\n",
    "- The top 5 drugs performed excellently."
   ]
  },
  {
   "cell_type": "markdown",
   "metadata": {},
   "source": [
    "### **Recommendation**"
   ]
  },
  {
   "cell_type": "markdown",
   "metadata": {},
   "source": [
    "The recommendation for the company is to focus on acquiring more drugs that exhibit high effectiveness while also being more cost-effective. These drugs can then be priced slightly higher to ensure an increase in profits while maintaining competitiveness in the market."
   ]
  }
 ],
 "metadata": {
  "kernelspec": {
   "display_name": "hacktive",
   "language": "python",
   "name": "python3"
  },
  "language_info": {
   "codemirror_mode": {
    "name": "ipython",
    "version": 3
   },
   "file_extension": ".py",
   "mimetype": "text/x-python",
   "name": "python",
   "nbconvert_exporter": "python",
   "pygments_lexer": "ipython3",
   "version": "undefined.undefined.undefined"
  }
 },
 "nbformat": 4,
 "nbformat_minor": 2
}
